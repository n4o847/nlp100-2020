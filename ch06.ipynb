{
 "metadata": {
  "language_info": {
   "codemirror_mode": {
    "name": "ipython",
    "version": 3
   },
   "file_extension": ".py",
   "mimetype": "text/x-python",
   "name": "python",
   "nbconvert_exporter": "python",
   "pygments_lexer": "ipython3",
   "version": "3.8.5-final"
  },
  "orig_nbformat": 2,
  "kernelspec": {
   "name": "python3",
   "display_name": "Python 3"
  }
 },
 "nbformat": 4,
 "nbformat_minor": 2,
 "cells": [
  {
   "source": [
    "# 第6章\n",
    "\n",
    "## 50."
   ],
   "cell_type": "markdown",
   "metadata": {}
  },
  {
   "cell_type": "code",
   "execution_count": 20,
   "metadata": {
    "tags": []
   },
   "outputs": [
    {
     "output_type": "execute_result",
     "data": {
      "text/plain": [
       "{'abandoned': 409581,\n",
       " 'train': {'sum': 10684, 'm': 720, 'e': 4221, 'b': 4528, 't': 1215},\n",
       " 'valid': {'sum': 1336, 'e': 540, 't': 150, 'b': 538, 'm': 108},\n",
       " 'test': {'sum': 1336, 'e': 533, 'b': 561, 'm': 82, 't': 160}}"
      ]
     },
     "metadata": {},
     "execution_count": 20
    }
   ],
   "source": [
    "from collections import defaultdict\n",
    "import random\n",
    "\n",
    "count = {\n",
    "    'abandoned': 0,\n",
    "    'train': defaultdict(lambda: 0),\n",
    "    'valid': defaultdict(lambda: 0),\n",
    "    'test': defaultdict(lambda: 0),\n",
    "}\n",
    "news_corpora = []\n",
    "with open('data/NewsAggregatorDataset/newsCorpora.csv') as f:\n",
    "    for l in f:\n",
    "        id, title, url, publisher, category, story, hostname, timestamp = l.rstrip().split('\\t')\n",
    "        if publisher in ['Reuters', 'Huffington Post', 'Businessweek', 'Contactmusic.com', 'Daily Mail']:\n",
    "            news_corpora.append((category, title))\n",
    "        else:\n",
    "            count['abandoned'] += 1\n",
    "\n",
    "random.shuffle(news_corpora)\n",
    "\n",
    "data = [\n",
    "    ('train', news_corpora[:(len(news_corpora) * 8 // 10)]),\n",
    "    ('valid', news_corpora[(len(news_corpora) * 8 // 10):(len(news_corpora) * 9 // 10)]),\n",
    "    ('test', news_corpora[(len(news_corpora) * 9 // 10):]),\n",
    "]\n",
    "\n",
    "for key, raws in data:\n",
    "    with open(f'out/{key}.txt', mode='w') as f:\n",
    "        for category, title in raws:\n",
    "            f.write('\\t'.join([category, title]) + '\\n')\n",
    "            count[key]['sum'] += 1\n",
    "            count[key][category] += 1\n",
    "    count[key] = dict(count[key])\n",
    "\n",
    "count"
   ]
  },
  {
   "source": [
    "## 51."
   ],
   "cell_type": "markdown",
   "metadata": {}
  },
  {
   "cell_type": "code",
   "execution_count": null,
   "metadata": {},
   "outputs": [],
   "source": []
  }
 ]
}