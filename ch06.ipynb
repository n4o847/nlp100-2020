{
 "metadata": {
  "language_info": {
   "codemirror_mode": {
    "name": "ipython",
    "version": 3
   },
   "file_extension": ".py",
   "mimetype": "text/x-python",
   "name": "python",
   "nbconvert_exporter": "python",
   "pygments_lexer": "ipython3",
   "version": "3.8.5-final"
  },
  "orig_nbformat": 2,
  "kernelspec": {
   "name": "python3",
   "display_name": "Python 3"
  }
 },
 "nbformat": 4,
 "nbformat_minor": 2,
 "cells": [
  {
   "source": [
    "# 第6章\n",
    "\n",
    "## 50."
   ],
   "cell_type": "markdown",
   "metadata": {}
  },
  {
   "cell_type": "code",
   "execution_count": 1,
   "metadata": {
    "tags": []
   },
   "outputs": [
    {
     "output_type": "stream",
     "name": "stdout",
     "text": [
      "学習データ\nb    4502\ne    4223\nt    1219\nm     728\nName: category, dtype: int64\n\n検証データ\nb    562\ne    528\nt    153\nm     91\nName: category, dtype: int64\n\n評価データ\nb    563\ne    528\nt    152\nm     91\nName: category, dtype: int64\n"
     ]
    }
   ],
   "source": [
    "import pandas as pd\n",
    "from sklearn.model_selection import train_test_split\n",
    "\n",
    "SEED = 0\n",
    "\n",
    "news_corpora = pd.read_csv('data/NewsAggregatorDataset/newsCorpora.csv', sep='\\t', header=None, names=['id', 'title', 'url', 'publisher', 'category', 'story', 'hostname', 'timestamp'])\n",
    "\n",
    "news_corpora = news_corpora.loc[news_corpora['publisher'].isin(['Reuters', 'Huffington Post', 'Businessweek', 'Contactmusic.com', 'Daily Mail']), ['category', 'title']]\n",
    "\n",
    "train, valid_test = train_test_split(news_corpora, test_size=0.2, random_state=SEED, shuffle=True, stratify=news_corpora['category'])\n",
    "valid, test = train_test_split(valid_test, test_size=0.5, random_state=SEED, shuffle=True, stratify=valid_test['category'])\n",
    "\n",
    "train.to_csv('out/train.txt', sep='\\t', index=False)\n",
    "valid.to_csv('out/valid.txt', sep='\\t', index=False)\n",
    "test.to_csv('out/test.txt', sep='\\t', index=False)\n",
    "\n",
    "print('学習データ')\n",
    "print(train['category'].value_counts())\n",
    "print()\n",
    "print('検証データ')\n",
    "print(valid['category'].value_counts())\n",
    "print()\n",
    "print('評価データ')\n",
    "print(test['category'].value_counts())"
   ]
  },
  {
   "source": [
    "## 51."
   ],
   "cell_type": "markdown",
   "metadata": {}
  },
  {
   "cell_type": "code",
   "execution_count": 2,
   "metadata": {},
   "outputs": [
    {
     "output_type": "execute_result",
     "data": {
      "text/plain": [
       "    00   07   08   09  0ff  0ut   10  100  1000  10000  ...  zombies  zone  \\\n",
       "0  0.0  0.0  0.0  0.0  0.0  0.0  0.0  0.0   0.0    0.0  ...      0.0   0.0   \n",
       "1  0.0  0.0  0.0  0.0  0.0  0.0  0.0  0.0   0.0    0.0  ...      0.0   0.0   \n",
       "2  0.0  0.0  0.0  0.0  0.0  0.0  0.0  0.0   0.0    0.0  ...      0.0   0.0   \n",
       "3  0.0  0.0  0.0  0.0  0.0  0.0  0.0  0.0   0.0    0.0  ...      0.0   0.0   \n",
       "4  0.0  0.0  0.0  0.0  0.0  0.0  0.0  0.0   0.0    0.0  ...      0.0   0.0   \n",
       "\n",
       "   zooey  zoosk  zuckerberg  zynga   zâ  œlousyâ  œpiece  œwaist  \n",
       "0    0.0    0.0         0.0    0.0  0.0      0.0     0.0     0.0  \n",
       "1    0.0    0.0         0.0    0.0  0.0      0.0     0.0     0.0  \n",
       "2    0.0    0.0         0.0    0.0  0.0      0.0     0.0     0.0  \n",
       "3    0.0    0.0         0.0    0.0  0.0      0.0     0.0     0.0  \n",
       "4    0.0    0.0         0.0    0.0  0.0      0.0     0.0     0.0  \n",
       "\n",
       "[5 rows x 13384 columns]"
      ],
      "text/html": "<div>\n<style scoped>\n    .dataframe tbody tr th:only-of-type {\n        vertical-align: middle;\n    }\n\n    .dataframe tbody tr th {\n        vertical-align: top;\n    }\n\n    .dataframe thead th {\n        text-align: right;\n    }\n</style>\n<table border=\"1\" class=\"dataframe\">\n  <thead>\n    <tr style=\"text-align: right;\">\n      <th></th>\n      <th>00</th>\n      <th>07</th>\n      <th>08</th>\n      <th>09</th>\n      <th>0ff</th>\n      <th>0ut</th>\n      <th>10</th>\n      <th>100</th>\n      <th>1000</th>\n      <th>10000</th>\n      <th>...</th>\n      <th>zombies</th>\n      <th>zone</th>\n      <th>zooey</th>\n      <th>zoosk</th>\n      <th>zuckerberg</th>\n      <th>zynga</th>\n      <th>zâ</th>\n      <th>œlousyâ</th>\n      <th>œpiece</th>\n      <th>œwaist</th>\n    </tr>\n  </thead>\n  <tbody>\n    <tr>\n      <th>0</th>\n      <td>0.0</td>\n      <td>0.0</td>\n      <td>0.0</td>\n      <td>0.0</td>\n      <td>0.0</td>\n      <td>0.0</td>\n      <td>0.0</td>\n      <td>0.0</td>\n      <td>0.0</td>\n      <td>0.0</td>\n      <td>...</td>\n      <td>0.0</td>\n      <td>0.0</td>\n      <td>0.0</td>\n      <td>0.0</td>\n      <td>0.0</td>\n      <td>0.0</td>\n      <td>0.0</td>\n      <td>0.0</td>\n      <td>0.0</td>\n      <td>0.0</td>\n    </tr>\n    <tr>\n      <th>1</th>\n      <td>0.0</td>\n      <td>0.0</td>\n      <td>0.0</td>\n      <td>0.0</td>\n      <td>0.0</td>\n      <td>0.0</td>\n      <td>0.0</td>\n      <td>0.0</td>\n      <td>0.0</td>\n      <td>0.0</td>\n      <td>...</td>\n      <td>0.0</td>\n      <td>0.0</td>\n      <td>0.0</td>\n      <td>0.0</td>\n      <td>0.0</td>\n      <td>0.0</td>\n      <td>0.0</td>\n      <td>0.0</td>\n      <td>0.0</td>\n      <td>0.0</td>\n    </tr>\n    <tr>\n      <th>2</th>\n      <td>0.0</td>\n      <td>0.0</td>\n      <td>0.0</td>\n      <td>0.0</td>\n      <td>0.0</td>\n      <td>0.0</td>\n      <td>0.0</td>\n      <td>0.0</td>\n      <td>0.0</td>\n      <td>0.0</td>\n      <td>...</td>\n      <td>0.0</td>\n      <td>0.0</td>\n      <td>0.0</td>\n      <td>0.0</td>\n      <td>0.0</td>\n      <td>0.0</td>\n      <td>0.0</td>\n      <td>0.0</td>\n      <td>0.0</td>\n      <td>0.0</td>\n    </tr>\n    <tr>\n      <th>3</th>\n      <td>0.0</td>\n      <td>0.0</td>\n      <td>0.0</td>\n      <td>0.0</td>\n      <td>0.0</td>\n      <td>0.0</td>\n      <td>0.0</td>\n      <td>0.0</td>\n      <td>0.0</td>\n      <td>0.0</td>\n      <td>...</td>\n      <td>0.0</td>\n      <td>0.0</td>\n      <td>0.0</td>\n      <td>0.0</td>\n      <td>0.0</td>\n      <td>0.0</td>\n      <td>0.0</td>\n      <td>0.0</td>\n      <td>0.0</td>\n      <td>0.0</td>\n    </tr>\n    <tr>\n      <th>4</th>\n      <td>0.0</td>\n      <td>0.0</td>\n      <td>0.0</td>\n      <td>0.0</td>\n      <td>0.0</td>\n      <td>0.0</td>\n      <td>0.0</td>\n      <td>0.0</td>\n      <td>0.0</td>\n      <td>0.0</td>\n      <td>...</td>\n      <td>0.0</td>\n      <td>0.0</td>\n      <td>0.0</td>\n      <td>0.0</td>\n      <td>0.0</td>\n      <td>0.0</td>\n      <td>0.0</td>\n      <td>0.0</td>\n      <td>0.0</td>\n      <td>0.0</td>\n    </tr>\n  </tbody>\n</table>\n<p>5 rows × 13384 columns</p>\n</div>"
     },
     "metadata": {},
     "execution_count": 2
    }
   ],
   "source": [
    "from sklearn.feature_extraction.text import TfidfVectorizer\n",
    "\n",
    "train_valid = pd.concat([train, valid])\n",
    "\n",
    "vectorizer = TfidfVectorizer()\n",
    "\n",
    "train_valid_feature = vectorizer.fit_transform(train_valid['title'])\n",
    "test_feature = vectorizer.transform(test['title'])\n",
    "\n",
    "train_valid_feature = pd.DataFrame(train_valid_feature.toarray(), columns=vectorizer.get_feature_names())\n",
    "test_feature = pd.DataFrame(test_feature.toarray(), columns=vectorizer.get_feature_names())\n",
    "\n",
    "train_feature = train_valid_feature[:len(train)]\n",
    "valid_feature = train_valid_feature[len(train):]\n",
    "\n",
    "train_feature.to_csv('out/train.feature.txt', sep='\\t', index=False)\n",
    "valid_feature.to_csv('out/valid.feature.txt', sep='\\t', index=False)\n",
    "test_feature.to_csv('out/test.feature.txt', sep='\\t', index=False)\n",
    "\n",
    "train_feature.head()"
   ]
  },
  {
   "source": [
    "## 52."
   ],
   "cell_type": "markdown",
   "metadata": {}
  },
  {
   "cell_type": "code",
   "execution_count": 3,
   "metadata": {},
   "outputs": [
    {
     "output_type": "execute_result",
     "data": {
      "text/plain": [
       "LogisticRegression()"
      ]
     },
     "metadata": {},
     "execution_count": 3
    }
   ],
   "source": [
    "from sklearn.linear_model import LogisticRegression\n",
    "\n",
    "lr = LogisticRegression()\n",
    "lr.fit(train_feature, train['category'])"
   ]
  },
  {
   "source": [
    "## 53."
   ],
   "cell_type": "markdown",
   "metadata": {}
  },
  {
   "cell_type": "code",
   "execution_count": 5,
   "metadata": {},
   "outputs": [
    {
     "output_type": "execute_result",
     "data": {
      "text/plain": [
       "(array(['b', 'b', 'e', ..., 'b', 'b', 'e'], dtype=object),\n",
       " array([0.61587764, 0.92895613, 0.7513382 , ..., 0.81752671, 0.98021737,\n",
       "        0.73399155]))"
      ]
     },
     "metadata": {},
     "execution_count": 5
    }
   ],
   "source": [
    "import numpy as np\n",
    "\n",
    "train_pred = lr.predict(train_feature)\n",
    "train_prob = np.max(lr.predict_proba(train_feature), axis=1)\n",
    "\n",
    "test_pred = lr.predict(test_feature)\n",
    "test_prob = np.max(lr.predict_proba(test_feature), axis=1)\n",
    "\n",
    "(train_pred, train_prob)"
   ]
  },
  {
   "source": [
    "## 54."
   ],
   "cell_type": "markdown",
   "metadata": {}
  },
  {
   "cell_type": "code",
   "execution_count": 6,
   "metadata": {},
   "outputs": [
    {
     "output_type": "stream",
     "name": "stdout",
     "text": [
      "正解率（学習データ）：0.947\n正解率（評価データ）：0.885\n"
     ]
    }
   ],
   "source": [
    "from sklearn.metrics import accuracy_score\n",
    "\n",
    "train_accuracy = accuracy_score(train['category'], train_pred)\n",
    "test_accuracy = accuracy_score(test['category'], test_pred)\n",
    "print(f'正解率（学習データ）：{train_accuracy:.3f}')\n",
    "print(f'正解率（評価データ）：{test_accuracy:.3f}')"
   ]
  }
 ]
}
