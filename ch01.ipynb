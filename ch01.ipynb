{
 "metadata": {
  "language_info": {
   "codemirror_mode": {
    "name": "ipython",
    "version": 3
   },
   "file_extension": ".py",
   "mimetype": "text/x-python",
   "name": "python",
   "nbconvert_exporter": "python",
   "pygments_lexer": "ipython3",
   "version": "3.8.5-final"
  },
  "orig_nbformat": 2,
  "kernelspec": {
   "name": "Python 3.8.5 64-bit",
   "display_name": "Python 3.8.5 64-bit",
   "metadata": {
    "interpreter": {
     "hash": "31f2aee4e71d21fbe5cf8b01ff0e069b9275f58929596ceb00d14d90e3e16cd6"
    }
   }
  }
 },
 "nbformat": 4,
 "nbformat_minor": 2,
 "cells": [
  {
   "source": [
    "# 第1章\n",
    "\n",
    "## 00."
   ],
   "cell_type": "markdown",
   "metadata": {}
  },
  {
   "cell_type": "code",
   "execution_count": 4,
   "metadata": {},
   "outputs": [
    {
     "output_type": "stream",
     "name": "stdout",
     "text": [
      "desserts\n"
     ]
    }
   ],
   "source": [
    "s = \"stressed\"\n",
    "print(\"\".join(reversed(s)))"
   ]
  },
  {
   "source": [
    "## 01."
   ],
   "cell_type": "markdown",
   "metadata": {}
  },
  {
   "cell_type": "code",
   "execution_count": 27,
   "metadata": {},
   "outputs": [
    {
     "output_type": "execute_result",
     "data": {
      "text/plain": [
       "'タクシー'"
      ]
     },
     "metadata": {},
     "execution_count": 27
    }
   ],
   "source": [
    "s = \"パタトクカシーー\"\n",
    "s[1::2]"
   ]
  },
  {
   "source": [
    "## 02."
   ],
   "cell_type": "markdown",
   "metadata": {}
  },
  {
   "cell_type": "code",
   "execution_count": 28,
   "metadata": {},
   "outputs": [
    {
     "output_type": "execute_result",
     "data": {
      "text/plain": [
       "'パタトクカシーー'"
      ]
     },
     "metadata": {},
     "execution_count": 28
    }
   ],
   "source": [
    "s = \"パトカー\"\n",
    "t = \"タクシー\"\n",
    "\"\".join(map(\"\".join, zip(s, t)))"
   ]
  },
  {
   "source": [
    "## 03."
   ],
   "cell_type": "markdown",
   "metadata": {}
  },
  {
   "cell_type": "code",
   "execution_count": 29,
   "metadata": {},
   "outputs": [
    {
     "output_type": "execute_result",
     "data": {
      "text/plain": [
       "[3, 1, 4, 1, 5, 9, 2, 6, 5, 3, 5, 8, 9, 7, 9]"
      ]
     },
     "metadata": {},
     "execution_count": 29
    }
   ],
   "source": [
    "s = \"Now I need a drink, alcoholic of course, after the heavy lectures involving quantum mechanics.\"\n",
    "l = list(map(len, s.replace(\".\", \"\").replace(\",\", \"\").split()))\n",
    "l"
   ]
  },
  {
   "source": [
    "## 04."
   ],
   "cell_type": "markdown",
   "metadata": {}
  },
  {
   "cell_type": "code",
   "execution_count": 30,
   "metadata": {},
   "outputs": [
    {
     "output_type": "execute_result",
     "data": {
      "text/plain": [
       "{'H': 0,\n",
       " 'He': 1,\n",
       " 'Li': 2,\n",
       " 'Be': 3,\n",
       " 'B': 4,\n",
       " 'C': 5,\n",
       " 'N': 6,\n",
       " 'O': 7,\n",
       " 'F': 8,\n",
       " 'Ne': 9,\n",
       " 'Na': 10,\n",
       " 'Mi': 11,\n",
       " 'Al': 12,\n",
       " 'Si': 13,\n",
       " 'P': 14,\n",
       " 'S': 15,\n",
       " 'Cl': 16,\n",
       " 'Ar': 17,\n",
       " 'K': 18,\n",
       " 'Ca': 19}"
      ]
     },
     "metadata": {},
     "execution_count": 30
    }
   ],
   "source": [
    "s = \"Hi He Lied Because Boron Could Not Oxidize Fluorine. New Nations Might Also Sign Peace Security Clause. Arthur King Can.\"\n",
    "\n",
    "ONE_CHAR = [1, 5, 6, 7, 8, 9, 15, 16, 19]\n",
    "d = dict()\n",
    "for (iw, w_) in enumerate(s.split()):\n",
    "    w = w_.replace(\".\", \"\")\n",
    "    if iw + 1 in ONE_CHAR:\n",
    "        d[w[0]] = iw\n",
    "    else:\n",
    "        d[w[0:2]] = iw\n",
    "d"
   ]
  },
  {
   "source": [
    "## 05."
   ],
   "cell_type": "markdown",
   "metadata": {}
  },
  {
   "cell_type": "code",
   "execution_count": 37,
   "metadata": {},
   "outputs": [
    {
     "output_type": "stream",
     "name": "stdout",
     "text": [
      "[['I', 'am'], ['am', 'an'], ['an', 'NLPer']]\n['I ', ' a', 'am', 'm ', ' a', 'an', 'n ', ' N', 'NL', 'LP', 'Pe', 'er']\n"
     ]
    }
   ],
   "source": [
    "def ngram(s, n):\n",
    "    return [s[i:i + n] for i in range(len(s) - n + 1)]\n",
    "\n",
    "s = \"I am an NLPer\"\n",
    "print(ngram(s.split(), 2))\n",
    "print(ngram(s, 2))"
   ]
  },
  {
   "source": [
    "## 06."
   ],
   "cell_type": "markdown",
   "metadata": {}
  },
  {
   "cell_type": "code",
   "execution_count": 51,
   "metadata": {},
   "outputs": [
    {
     "output_type": "stream",
     "name": "stdout",
     "text": [
      "{'ph', 'ra', 'is', 'ar', 'ap', 'ad', 'di', 'ag', 'gr', 'se', 'pa'}\n{'ar', 'ap', 'ra', 'pa'}\n{'di', 'ad', 'se', 'is'}\nTrue\nFalse\n"
     ]
    }
   ],
   "source": [
    "s = \"paraparaparadise\"\n",
    "t = \"paragraph\"\n",
    "x = set(ngram(s, 2))\n",
    "y = set(ngram(t, 2))\n",
    "print(x | y)\n",
    "print(x & y)\n",
    "print(x - y)\n",
    "print(\"se\" in x)\n",
    "print(\"se\" in y)"
   ]
  },
  {
   "source": [
    "## 07."
   ],
   "cell_type": "markdown",
   "metadata": {}
  },
  {
   "cell_type": "code",
   "execution_count": 52,
   "metadata": {},
   "outputs": [
    {
     "output_type": "execute_result",
     "data": {
      "text/plain": [
       "'12時の気温は22.4'"
      ]
     },
     "metadata": {},
     "execution_count": 52
    }
   ],
   "source": [
    "def gen(x, y, z):\n",
    "    return f\"{x}時の{y}は{z}\"\n",
    "\n",
    "gen(x=12, y=\"気温\", z=22.4)"
   ]
  },
  {
   "source": [
    "## 08."
   ],
   "cell_type": "markdown",
   "metadata": {}
  },
  {
   "cell_type": "code",
   "execution_count": 53,
   "metadata": {},
   "outputs": [
    {
     "output_type": "execute_result",
     "data": {
      "text/plain": [
       "'Hr Hv Lrvw Bvxzfhv Blilm Clfow Nlg Ocrwrav Foflirmv. Nvd Nzgrlmh Mrtsg Aohl Srtm Pvzxv Svxfirgb Cozfhv. Aigsfi Krmt Czm.'"
      ]
     },
     "metadata": {},
     "execution_count": 53
    }
   ],
   "source": [
    "SMALL = \"abcdefghijklmnopqrstuvwxyz\"\n",
    "\n",
    "def cipher(s):\n",
    "    t = \"\"\n",
    "    for c in s:\n",
    "        if c in SMALL:\n",
    "            t += chr(219 - ord(c))\n",
    "        else:\n",
    "            t += c\n",
    "    return t\n",
    "\n",
    "cipher(\"Hi He Lied Because Boron Could Not Oxidize Fluorine. New Nations Might Also Sign Peace Security Clause. Arthur King Can.\")"
   ]
  },
  {
   "source": [
    "## 09."
   ],
   "cell_type": "markdown",
   "metadata": {}
  },
  {
   "cell_type": "code",
   "execution_count": 59,
   "metadata": {},
   "outputs": [
    {
     "output_type": "execute_result",
     "data": {
      "text/plain": [
       "'I cl’ndout belivee that I could aclultay ursnteandd what I was rdenaig : the ponamneehl pwoer of the hmaun mind .'"
      ]
     },
     "metadata": {},
     "execution_count": 59
    }
   ],
   "source": [
    "import random\n",
    "\n",
    "def typoglycemia(s):\n",
    "    r = []\n",
    "    for w in s.split():\n",
    "        if len(w) <= 4:\n",
    "            r.append(w)\n",
    "        else:\n",
    "            l = [*w[1:-1]]\n",
    "            random.shuffle(l)\n",
    "            r.append(w[0] + \"\".join(l) + w[-1])\n",
    "    return \" \".join(r)\n",
    "\n",
    "s = \"I couldn’t believe that I could actually understand what I was reading : the phenomenal power of the human mind .\"\n",
    "typoglycemia(s)"
   ]
  }
 ]
}