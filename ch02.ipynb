{
 "metadata": {
  "language_info": {
   "codemirror_mode": {
    "name": "ipython",
    "version": 3
   },
   "file_extension": ".py",
   "mimetype": "text/x-python",
   "name": "python",
   "nbconvert_exporter": "python",
   "pygments_lexer": "ipython3",
   "version": "3.8.5-final"
  },
  "orig_nbformat": 2,
  "kernelspec": {
   "name": "Python 3.8.5 64-bit",
   "display_name": "Python 3.8.5 64-bit",
   "metadata": {
    "interpreter": {
     "hash": "31f2aee4e71d21fbe5cf8b01ff0e069b9275f58929596ceb00d14d90e3e16cd6"
    }
   }
  }
 },
 "nbformat": 4,
 "nbformat_minor": 2,
 "cells": [
  {
   "source": [
    "# 第2章\n",
    "\n",
    "## 10."
   ],
   "cell_type": "markdown",
   "metadata": {}
  },
  {
   "cell_type": "code",
   "execution_count": 15,
   "metadata": {},
   "outputs": [
    {
     "output_type": "stream",
     "name": "stdout",
     "text": [
      "2780\n"
     ]
    }
   ],
   "source": [
    "# !wc data/popular-names.txt\n",
    "\n",
    "with open('data/popular-names.txt') as f:\n",
    "    print(sum(1 for _ in f))"
   ]
  },
  {
   "source": [
    "## 11."
   ],
   "cell_type": "markdown",
   "metadata": {}
  },
  {
   "cell_type": "code",
   "execution_count": 16,
   "metadata": {
    "tags": [
     "outputPrepend"
    ]
   },
   "outputs": [
    {
     "output_type": "stream",
     "name": "stdout",
     "text": [
      " M 33394 1969\nBrian M 31687 1969\nRichard M 31106 1969\nJennifer F 46157 1970\nLisa F 38963 1970\nKimberly F 34136 1970\nMichelle F 34050 1970\nAmy F 25209 1970\nAngela F 24927 1970\nMelissa F 23737 1970\nTammy F 19586 1970\nMary F 19203 1970\nTracy F 18468 1970\nMichael M 85302 1970\nJames M 61759 1970\nDavid M 61752 1970\nJohn M 58525 1970\nRobert M 57203 1970\nChristopher M 41772 1970\nWilliam M 38910 1970\nBrian M 31930 1970\nMark M 31492 1970\nRichard M 30456 1970\nJennifer F 56783 1971\nMichelle F 33160 1971\nLisa F 32909 1971\nKimberly F 30696 1971\nAmy F 26237 1971\nAngela F 25896 1971\nMelissa F 23869 1971\nTammy F 17657 1971\nMary F 16697 1971\nJulie F 15326 1971\nMichael M 77594 1971\nJames M 54621 1971\nDavid M 53118 1971\nJohn M 51518 1971\nRobert M 50654 1971\nChristopher M 48234 1971\nWilliam M 35432 1971\nJason M 34187 1971\nBrian M 32637 1971\nScott M 30921 1971\nJennifer F 63603 1972\nMichelle F 29284 1972\nLisa F 27549 1972\nKimberly F 26290 1972\nAmy F 25873 1972\nAngela F 23556 1972\nMelissa F 22503 1972\nStephanie F 16885 1972\nHeather F 16321 1972\nNicole F 15752 1972\nMichael M 71405 1972\nChristopher M 52189 1972\nJames M 47083 1972\nDavid M 46366 1972\nJohn M 43181 1972\nRobert M 43037 1972\nJason M 37446 1972\nBrian M 36322 1972\nWilliam M 30529 1972\nMatthew M 22943 1972\nJennifer F 62447 1973\nAmy F 26964 1973\nMichelle F 26934 1973\nKimberly F 23533 1973\nLisa F 22669 1973\nMelissa F 22480 1973\nAngela F 20896 1973\nHeather F 19349 1973\nStephanie F 17263 1973\nRebecca F 14870 1973\nMichael M 67847 1973\nChristopher M 48321 1973\nJason M 46683 1973\nJames M 42889 1973\nDavid M 41102 1973\nJohn M 39176 1973\nRobert M 38701 1973\nBrian M 35715 1973\nWilliam M 28021 1973\nMatthew M 24546 1973\nJennifer F 63114 1974\nAmy F 29565 1974\nMichelle F 25828 1974\nHeather F 23181 1974\nAngela F 22802 1974\nKimberly F 22419 1974\nMelissa F 22166 1974\nLisa F 19774 1974\nStephanie F 16983 1974\nRebecca F 15167 1974\nMichael M 67578 1974\nJason M 54776 1974\nChristopher M 48603 1974\nDavid M 41815 1974\nJames M 41354 1974\nJohn M 37638 1974\nRobert M 37031 1974\nBrian M 34460 1974\nMatthew M 27224 1974\nWilliam M 26990 1974\nJennifer F 58183 1975\nAmy F 32251 1975\nHeather F 24299 1975\nMelissa F 24165 1975\nAngela F 23360 1975\nMichelle F 22665 1975\nKimberly F 20263 1975\nLisa F 18134 1975\nStephanie F 15774 1975\nNicole F 14276 1975\nMichael M 68454 1975\nJason M 52186 1975\nChristopher M 46592 1975\nJames M 39591 1975\nDavid M 39177 1975\nRobert M 35335 1975\nJohn M 35097 1975\nBrian M 30608 1975\nMatthew M 28550 1975\nWilliam M 25572 1975\nJennifer F 59474 1976\nAmy F 31341 1976\nMelissa F 25095 1976\nHeather F 24198 1976\nAngela F 22042 1976\nMichelle F 19555 1976\nKimberly F 18966 1976\nJessica F 18370 1976\nLisa F 17351 1976\nAmanda F 15590 1976\nMichael M 66954 1976\nJason M 52680 1976\nChristopher M 45210 1976\nDavid M 39294 1976\nJames M 38309 1976\nJohn M 34006 1976\nRobert M 33810 1976\nBrian M 30532 1976\nMatthew M 29981 1976\nDaniel M 24720 1976\nJennifer F 58964 1977\nMelissa F 26886 1977\nAmy F 26732 1977\nJessica F 24843 1977\nHeather F 23777 1977\nAngela F 20996 1977\nMichelle F 19539 1977\nKimberly F 18286 1977\nAmanda F 18280 1977\nKelly F 18235 1977\nMichael M 67616 1977\nJason M 55653 1977\nChristopher M 46749 1977\nDavid M 40543 1977\nJames M 40054 1977\nJohn M 34227 1977\nRobert M 34217 1977\nBrian M 32502 1977\nMatthew M 31973 1977\nJoseph M 26493 1977\nJennifer F 56321 1978\nMelissa F 28330 1978\nJessica F 26102 1978\nAmy F 23212 1978\nHeather F 22271 1978\nAmanda F 20517 1978\nAngela F 20511 1978\nSarah F 19977 1978\nMichelle F 18860 1978\nNicole F 17276 1978\nMichael M 67158 1978\nJason M 51629 1978\nChristopher M 47259 1978\nDavid M 40704 1978\nJames M 39915 1978\nMatthew M 34310 1978\nJohn M 34037 1978\nRobert M 33396 1978\nBrian M 29451 1978\nJoseph M 26671 1978\nJennifer F 56717 1979\nMelissa F 34052 1979\nAmanda F 31928 1979\nJessica F 27776 1979\nAmy F 21615 1979\nSarah F 21018 1979\nHeather F 20839 1979\nAngela F 20256 1979\nNicole F 19511 1979\nMichelle F 19269 1979\nMichael M 67739 1979\nChristopher M 50677 1979\nJason M 50408 1979\nDavid M 42078 1979\nJames M 39371 1979\nMatthew M 35657 1979\nJohn M 35434 1979\nRobert M 34026 1979\nJoshua M 31137 1979\nBrian M 28670 1979\nJennifer F 58375 1980\nAmanda F 35821 1980\nJessica F 33921 1980\nMelissa F 31636 1980\nSarah F 25755 1980\nHeather F 19975 1980\nNicole F 19920 1980\nAmy F 19835 1980\nElizabeth F 19528 1980\nMichelle F 19123 1980\nMichael M 68696 1980\nChristopher M 49092 1980\nJason M 48171 1980\nDavid M 41925 1980\nJames M 39325 1980\nMatthew M 37855 1980\nJoshua M 36060 1980\nJohn M 35279 1980\nRobert M 34280 1980\nJoseph M 30203 1980\nJennifer F 57049 1981\nJessica F 42533 1981\nAmanda F 34373 1981\nSarah F 28173 1981\nMelissa F 28000 1981\nAmy F 20343 1981\nNicole F 20312 1981\nStephanie F 20209 1981\nElizabeth F 20173 1981\nHeather F 17947 1981\nMichael M 68763 1981\nChristopher M 50235 1981\nMatthew M 43333 1981\nJason M 41931 1981\nDavid M 40668 1981\nJoshua M 39054 1981\nJames M 38313 1981\nJohn M 34887 1981\nRobert M 34406 1981\nDaniel M 30994 1981\nJennifer F 57117 1982\nJessica F 45451 1982\nAmanda F 34214 1982\nSarah F 28484 1982\nMelissa F 25867 1982\nNicole F 21707 1982\nStephanie F 20857 1982\nElizabeth F 20514 1982\nCrystal F 19104 1982\nAmy F 18803 1982\nMichael M 68235 1982\nChristopher M 59231 1982\nMatthew M 46066 1982\nJason M 40632 1982\nDavid M 40459 1982\nJames M 38875 1982\nJoshua M 38028 1982\nJohn M 34705 1982\nRobert M 34425 1982\nDaniel M 32653 1982\nJennifer F 54346 1983\nJessica F 45282 1983\nAmanda F 33754 1983\nAshley F 33293 1983\nSarah F 27229 1983\nMelissa F 23473 1983\nNicole F 22399 1983\nStephanie F 22330 1983\nHeather F 20746 1983\nElizabeth F 19842 1983\nMichael M 68000 1983\nChristopher M 59349 1983\nMatthew M 50217 1983\nDavid M 39199 1983\nJoshua M 36707 1983\nJames M 36354 1983\nJason M 35115 1983\nDaniel M 34750 1983\nJohn M 33153 1983\nRobert M 32746 1983\nJennifer F 50559 1984\nJessica F 45855 1984\nAshley F 38772 1984\nAmanda F 33908 1984\nSarah F 25884 1984\nStephanie F 23021 1984\nNicole F 22265 1984\nMelissa F 21891 1984\nHeather F 21492 1984\nElizabeth F 20364 1984\nMichael M 67741 1984\nChristopher M 60029 1984\nMatthew M 49776 1984\nJoshua M 40262 1984\nDavid M 38486 1984\nDaniel M 36533 1984\nJames M 35857 1984\nJohn M 32617 1984\nRobert M 31773 1984\nJoseph M 30515 1984\nJessica F 48347 1985\nAshley F 47007 1985\nJennifer F 42651 1985\nAmanda F 39052 1985\nSarah F 24882 1985\nStephanie F 23239 1985\nNicole F 22967 1985\nHeather F 21153 1985\nElizabeth F 20541 1985\nMegan F 20013 1985\nMichael M 64912 1985\nChristopher M 59609 1985\nMatthew M 47079 1985\nJoshua M 42195 1985\nDaniel M 38542 1985\nDavid M 38521 1985\nJames M 35861 1985\nRobert M 32090 1985\nJohn M 31500 1985\nJoseph M 30212 1985\nJessica F 52677 1986\nAshley F 49676 1986\nAmanda F 40529 1986\nJennifer F 36185 1986\nSarah F 28155 1986\nStephanie F 22647 1986\nNicole F 21285 1986\nBrittany F 20311 1986\nHeather F 19792 1986\nElizabeth F 19072 1986\nMichael M 64208 1986\nChristopher M 56691 1986\nMatthew M 46925 1986\nJoshua M 37542 1986\nDavid M 37147 1986\nDaniel M 36574 1986\nJames M 34040 1986\nAndrew M 33856 1986\nRobert M 31349 1986\nJohn M 30207 1986\nJessica F 55994 1987\nAshley F 54854 1987\nAmanda F 41786 1987\nJennifer F 32703 1987\nSarah F 27890 1987\nStephanie F 22398 1987\nBrittany F 22231 1987\nNicole F 20286 1987\nHeather F 18979 1987\nElizabeth F 18607 1987\nMichael M 63655 1987\nChristopher M 54493 1987\nMatthew M 46481 1987\nJoshua M 40000 1987\nDavid M 36786 1987\nAndrew M 36206 1987\nDaniel M 35865 1987\nJames M 32643 1987\nJustin M 31492 1987\nRobert M 30229 1987\nJessica F 51543 1988\nAshley F 49963 1988\nAmanda F 39457 1988\nSarah F 28368 1988\nJennifer F 27889 1988\nBrittany F 26815 1988\nStephanie F 22838 1988\nSamantha F 20699 1988\nNicole F 20311 1988\nElizabeth F 20038 1988\nMichael M 64143 1988\nChristopher M 52997 1988\nMatthew M 45870 1988\nJoshua M 42651 1988\nAndrew M 35741 1988\nDavid M 35314 1988\nJustin M 35042 1988\nDaniel M 34700 1988\nJames M 32510 1988\nRobert M 30317 1988\nJessica F 47884 1989\nAshley F 47589 1989\nBrittany F 37788 1989\nAmanda F 36827 1989\nSarah F 27793 1989\nSamantha F 24792 1989\nJennifer F 23997 1989\nStephanie F 22768 1989\nLauren F 21063 1989\nElizabeth F 20295 1989\nMichael M 65389 1989\nChristopher M 53178 1989\nMatthew M 45374 1989\nJoshua M 44091 1989\nDavid M 35218 1989\nDaniel M 35001 1989\nAndrew M 34811 1989\nJustin M 32843 1989\nJames M 32703 1989\nRobert M 30065 1989\nJessica F 46475 1990\nAshley F 45560 1990\nBrittany F 36537 1990\nAmanda F 34408 1990\nSamantha F 25867 1990\nSarah F 25817 1990\nStephanie F 24860 1990\nJennifer F 22228 1990\nElizabeth F 20744 1990\nLauren F 20506 1990\nMichael M 65290 1990\nChristopher M 52336 1990\nMatthew M 44804 1990\nJoshua M 43219 1990\nDaniel M 33818 1990\nDavid M 33743 1990\nAndrew M 33657 1990\nJames M 32349 1990\nJustin M 30641 1990\nJoseph M 30128 1990\nAshley F 43478 1991\nJessica F 43398 1991\nBrittany F 29089 1991\nAmanda F 28893 1991\nSamantha F 25645 1991\nSarah F 25225 1991\nStephanie F 22774 1991\nJennifer F 20673 1991\nElizabeth F 20392 1991\nEmily F 20308 1991\nMichael M 60785 1991\nChristopher M 47104 1991\nMatthew M 41640 1991\nJoshua M 41218 1991\nAndrew M 31532 1991\nDaniel M 30917 1991\nJames M 30507 1991\nDavid M 30414 1991\nJoseph M 29834 1991\nJohn M 27800 1991\nAshley F 38453 1992\nJessica F 38356 1992\nAmanda F 25033 1992\nBrittany F 24977 1992\nSarah F 24635 1992\nSamantha F 24409 1992\nEmily F 21832 1992\nStephanie F 19672 1992\nElizabeth F 19032 1992\nMegan F 17842 1992\nMichael M 54392 1992\nChristopher M 42460 1992\nMatthew M 37734 1992\nJoshua M 36215 1992\nAndrew M 30535 1992\nBrandon M 29622 1992\nDaniel M 29148 1992\nTyler M 28794 1992\nJames M 28503 1992\nDavid M 28411 1992\nJessica F 34987 1993\nAshley F 34850 1993\nSarah F 24252 1993\nSamantha F 23668 1993\nEmily F 23595 1993\nBrittany F 21724 1993\nTaylor F 21267 1993\nAmanda F 20811 1993\nElizabeth F 17557 1993\nStephanie F 17183 1993\nMichael M 49549 1993\nChristopher M 38227 1993\nMatthew M 35770 1993\nJoshua M 33581 1993\nTyler M 29796 1993\nBrandon M 28731 1993\nDaniel M 28685 1993\nNicholas M 28107 1993\nJacob M 27484 1993\nAndrew M 27319 1993\nJessica F 32117 1994\nAshley F 30278 1994\nEmily F 24149 1994\nSamantha F 22820 1994\nSarah F 22291 1994\nTaylor F 20733 1994\nBrittany F 18901 1994\nAmanda F 18718 1994\nElizabeth F 16782 1994\nMegan F 16580 1994\nMichael M 44469 1994\nChristopher M 34800 1994\nMatthew M 33648 1994\nJoshua M 31372 1994\nTyler M 30477 1994\nBrandon M 29487 1994\nJacob M 29412 1994\nDaniel M 28060 1994\nNicholas M 27762 1994\nAndrew M 26009 1994\nJessica F 27938 1995\nAshley F 26602 1995\nEmily F 24380 1995\nSamantha F 21644 1995\nSarah F 21383 1995\nTaylor F 20425 1995\nHannah F 17010 1995\nBrittany F 16476 1995\nAmanda F 16351 1995\nElizabeth F 16185 1995\nMichael M 41402 1995\nMatthew M 32875 1995\nChristopher M 32674 1995\nJacob M 31129 1995\nJoshua M 30718 1995\nNicholas M 29156 1995\nTyler M 29154 1995\nBrandon M 26904 1995\nDaniel M 26722 1995\nAustin M 25905 1995\nEmily F 25151 1996\nJessica F 24198 1996\nAshley F 23677 1996\nSarah F 21040 1996\nSamantha F 20548 1996\nTaylor F 19152 1996\nHannah F 18596 1996\nAlexis F 16589 1996\nRachel F 16117 1996\nElizabeth F 15998 1996\nMichael M 38364 1996\nMatthew M 32073 1996\nJacob M 31925 1996\nChristopher M 30901 1996\nJoshua M 29170 1996\nNicholas M 27720 1996\nTyler M 26953 1996\nBrandon M 25846 1996\nAustin M 25660 1996\nAndrew M 25235 1996\nEmily F 25732 1997\nJessica F 21042 1997\nAshley F 20896 1997\nSarah F 20707 1997\nHannah F 20593 1997\nSamantha F 20169 1997\nTaylor F 19502 1997\nAlexis F 17170 1997\nElizabeth F 15423 1997\nMadison F 15188 1997\nMichael M 37549 1997\nJacob M 34153 1997\nMatthew M 31514 1997\nChristopher M 29105 1997\nJoshua M 28284 1997\nNicholas M 27257 1997\nAndrew M 25199 1997\nBrandon M 25193 1997\nAustin M 25117 1997\nTyler M 24876 1997\nEmily F 26182 1998\nHannah F 21373 1998\nSamantha F 20192 1998\nSarah F 19884 1998\nAshley F 19873 1998\nAlexis F 19778 1998\nTaylor F 18572 1998\nJessica F 18235 1998\nMadison F 17787 1998\nElizabeth F 15187 1998\nMichael M 36615 1998\nJacob M 36016 1998\nMatthew M 31142 1998\nJoshua M 28089 1998\nChristopher M 27002 1998\nNicholas M 26634 1998\nBrandon M 23829 1998\nTyler M 23711 1998\nAndrew M 23658 1998\nAustin M 23477 1998\nEmily F 26539 1999\nHannah F 21676 1999\nAlexis F 19234 1999\nSarah F 19104 1999\nSamantha F 19038 1999\nAshley F 18136 1999\nMadison F 18053 1999\nTaylor F 16905 1999\nJessica F 16348 1999\nElizabeth F 15345 1999\nJacob M 35363 1999\nMichael M 33912 1999\nMatthew M 30415 1999\nJoshua M 27258 1999\nNicholas M 25638 1999\nChristopher M 25603 1999\nAndrew M 23855 1999\nJoseph M 23213 1999\nDaniel M 22694 1999\nTyler M 22665 1999\nEmily F 25956 2000\nHannah F 23082 2000\nMadison F 19968 2000\nAshley F 17997 2000\nSarah F 17702 2000\nAlexis F 17629 2000\nSamantha F 17265 2000\nJessica F 15709 2000\nElizabeth F 15099 2000\nTaylor F 15078 2000\nJacob M 34477 2000\nMichael M 32037 2000\nMatthew M 28573 2000\nJoshua M 27537 2000\nChristopher M 24932 2000\nNicholas M 24652 2000\nAndrew M 23641 2000\nJoseph M 22831 2000\nDaniel M 22319 2000\nTyler M 21504 2000\nEmily F 25057 2001\nMadison F 22164 2001\nHannah F 20716 2001\nAshley F 16527 2001\nAlexis F 16402 2001\nSarah F 15899 2001\nSamantha F 15864 2001\nAbigail F 14807 2001\nElizabeth F 14786 2001\nOlivia F 13977 2001\nJacob M 32545 2001\nMichael M 29683 2001\nMatthew M 26808 2001\nJoshua M 26015 2001\nChristopher M 23126 2001\nNicholas M 22845 2001\nAndrew M 22411 2001\nJoseph M 22011 2001\nDaniel M 20989 2001\nWilliam M 20101 2001\nEmily F 24464 2002\nMadison F 21773 2002\nHannah F 18822 2002\nEmma F 16540 2002\nAlexis F 15636 2002\nAshley F 15344 2002\nAbigail F 15298 2002\nSarah F 14760 2002\nSamantha F 14666 2002\nOlivia F 14629 2002\nJacob M 30574 2002\nMichael M 28245 2002\nJoshua M 25993 2002\nMatthew M 25153 2002\nEthan M 22109 2002\nAndrew M 22019 2002\nJoseph M 21895 2002\nChristopher M 21684 2002\nNicholas M 21390 2002\nDaniel M 21316 2002\nEmily F 25691 2003\nEmma F 22706 2003\nMadison F 20199 2003\nHannah F 17637 2003\nOlivia F 16148 2003\nAbigail F 15928 2003\nAlexis F 14867 2003\nAshley F 14514 2003\nElizabeth F 14103 2003\nSamantha F 13867 2003\nJacob M 29638 2003\nMichael M 27121 2003\nJoshua M 25095 2003\nMatthew M 24001 2003\nAndrew M 22153 2003\nJoseph M 21367 2003\nEthan M 21357 2003\nDaniel M 21039 2003\nChristopher M 20749 2003\nAnthony M 20145 2003\nEmily F 25037 2004\nEmma F 21607 2004\nMadison F 20622 2004\nOlivia F 16105 2004\nHannah F 15605 2004\nAbigail F 15426 2004\nIsabella F 15017 2004\nAshley F 14373 2004\nSamantha F 13783 2004\nElizabeth F 13561 2004\nJacob M 27881 2004\nMichael M 25458 2004\nJoshua M 24204 2004\nMatthew M 22874 2004\nEthan M 22206 2004\nAndrew M 21703 2004\nDaniel M 20983 2004\nWilliam M 20225 2004\nJoseph M 20125 2004\nChristopher M 19630 2004\nEmily F 23940 2005\nEmma F 20344 2005\nMadison F 19568 2005\nAbigail F 15749 2005\nOlivia F 15693 2005\nIsabella F 15186 2005\nHannah F 14845 2005\nSamantha F 13638 2005\nAva F 13605 2005\nAshley F 13274 2005\nJacob M 25833 2005\nMichael M 23815 2005\nJoshua M 23250 2005\nMatthew M 21468 2005\nEthan M 21312 2005\nAndrew M 20730 2005\nDaniel M 20211 2005\nAnthony M 19379 2005\nJoseph M 19217 2005\nChristopher M 19168 2005\nEmily F 21404 2006\nEmma F 19119 2006\nMadison F 18626 2006\nIsabella F 18225 2006\nAva F 16939 2006\nAbigail F 15628 2006\nOlivia F 15498 2006\nHannah F 14544 2006\nSophia F 13501 2006\nSamantha F 12462 2006\nJacob M 24845 2006\nMichael M 22637 2006\nJoshua M 22322 2006\nEthan M 20514 2006\nMatthew M 20331 2006\nDaniel M 20065 2006\nAndrew M 19721 2006\nChristopher M 19680 2006\nAnthony M 19404 2006\nWilliam M 18957 2006\nEmily F 19355 2007\nIsabella F 19139 2007\nEmma F 18373 2007\nAva F 18051 2007\nMadison F 17961 2007\nSophia F 17024 2007\nOlivia F 16582 2007\nAbigail F 15470 2007\nHannah F 13312 2007\nElizabeth F 13056 2007\nJacob M 24282 2007\nMichael M 21992 2007\nEthan M 21029 2007\nJoshua M 20655 2007\nDaniel M 20251 2007\nChristopher M 20018 2007\nAnthony M 19627 2007\nWilliam M 18882 2007\nMatthew M 18739 2007\nAndrew M 18449 2007\nEmma F 18813 2008\nIsabella F 18616 2008\nEmily F 17434 2008\nOlivia F 17081 2008\nAva F 17039 2008\nMadison F 17032 2008\nSophia F 16084 2008\nAbigail F 15082 2008\nElizabeth F 12008 2008\nChloe F 11824 2008\nJacob M 22594 2008\nMichael M 20626 2008\nEthan M 20216 2008\nJoshua M 19205 2008\nDaniel M 19005 2008\nAlexander M 18697 2008\nAnthony M 18397 2008\nWilliam M 18391 2008\nChristopher M 17947 2008\nMatthew M 17580 2008\nIsabella F 22306 2009\nEmma F 17895 2009\nOlivia F 17435 2009\nSophia F 16944 2009\nAva F 15873 2009\nEmily F 15352 2009\nMadison F 15239 2009\nAbigail F 14390 2009\nChloe F 11909 2009\nMia F 11426 2009\nJacob M 21175 2009\nEthan M 19847 2009\nMichael M 18940 2009\nAlexander M 18234 2009\nWilliam M 17918 2009\nJoshua M 17650 2009\nDaniel M 17542 2009\nJayden M 17288 2009\nNoah M 17247 2009\nChristopher M 16355 2009\nIsabella F 22913 2010\nSophia F 20643 2010\nEmma F 17345 2010\nOlivia F 17028 2010\nAva F 15433 2010\nEmily F 14274 2010\nAbigail F 14247 2010\nMadison F 13183 2010\nChloe F 11754 2010\nMia F 10639 2010\nJacob M 22127 2010\nEthan M 18002 2010\nMichael M 17350 2010\nJayden M 17179 2010\nWilliam M 17051 2010\nAlexander M 16756 2010\nNoah M 16451 2010\nDaniel M 15843 2010\nAiden M 15538 2010\nAnthony M 15493 2010\nSophia F 21842 2011\nIsabella F 19910 2011\nEmma F 18803 2011\nOlivia F 17322 2011\nAva F 15503 2011\nEmily F 14258 2011\nAbigail F 13248 2011\nMadison F 12389 2011\nMia F 11530 2011\nChloe F 10991 2011\nJacob M 20371 2011\nMason M 19510 2011\nWilliam M 17343 2011\nJayden M 16992 2011\nNoah M 16862 2011\nMichael M 16795 2011\nEthan M 16684 2011\nAlexander M 15702 2011\nAiden M 15496 2011\nDaniel M 15291 2011\nSophia F 22313 2012\nEmma F 20945 2012\nIsabella F 19099 2012\nOlivia F 17316 2012\nAva F 15533 2012\nEmily F 13649 2012\nAbigail F 12700 2012\nMia F 12023 2012\nMadison F 11397 2012\nElizabeth F 9708 2012\nJacob M 19074 2012\nMason M 18969 2012\nEthan M 17672 2012\nNoah M 17353 2012\nWilliam M 16885 2012\nLiam M 16804 2012\nMichael M 16169 2012\nJayden M 16127 2012\nAlexander M 15237 2012\nAiden M 14903 2012\nSophia F 21223 2013\nEmma F 20942 2013\nOlivia F 18428 2013\nIsabella F 17642 2013\nAva F 15252 2013\nMia F 13152 2013\nEmily F 13126 2013\nAbigail F 12409 2013\nMadison F 10596 2013\nElizabeth F 9454 2013\nNoah M 18257 2013\nJacob M 18158 2013\nLiam M 18137 2013\nMason M 17699 2013\nWilliam M 16641 2013\nEthan M 16241 2013\nMichael M 15497 2013\nAlexander M 14905 2013\nJayden M 14766 2013\nDaniel M 14298 2013\nEmma F 20936 2014\nOlivia F 19807 2014\nSophia F 18609 2014\nIsabella F 17089 2014\nAva F 15696 2014\nMia F 13512 2014\nEmily F 12647 2014\nAbigail F 12085 2014\nMadison F 10320 2014\nCharlotte F 10115 2014\nNoah M 19305 2014\nLiam M 18462 2014\nMason M 17201 2014\nJacob M 16883 2014\nWilliam M 16820 2014\nEthan M 15724 2014\nMichael M 15454 2014\nAlexander M 15414 2014\nJames M 14431 2014\nDaniel M 13937 2014\nEmma F 20455 2015\nOlivia F 19691 2015\nSophia F 17417 2015\nAva F 16378 2015\nIsabella F 15617 2015\nMia F 14905 2015\nAbigail F 12401 2015\nEmily F 11786 2015\nCharlotte F 11398 2015\nHarper F 10295 2015\nNoah M 19635 2015\nLiam M 18374 2015\nMason M 16627 2015\nJacob M 15949 2015\nWilliam M 15909 2015\nEthan M 15077 2015\nJames M 14824 2015\nAlexander M 14547 2015\nMichael M 14431 2015\nBenjamin M 13700 2015\nEmma F 19496 2016\nOlivia F 19365 2016\nAva F 16302 2016\nSophia F 16128 2016\nIsabella F 14795 2016\nMia F 14428 2016\nCharlotte F 13090 2016\nAbigail F 11760 2016\nEmily F 10972 2016\nHarper F 10787 2016\nNoah M 19117 2016\nLiam M 18218 2016\nWilliam M 15761 2016\nMason M 15244 2016\nJames M 14862 2016\nBenjamin M 14641 2016\nJacob M 14510 2016\nMichael M 14088 2016\nElijah M 13902 2016\nEthan M 13819 2016\nEmma F 19800 2017\nOlivia F 18703 2017\nAva F 15958 2017\nIsabella F 15180 2017\nSophia F 14883 2017\nMia F 13470 2017\nCharlotte F 12937 2017\nAmelia F 11833 2017\nEvelyn F 10712 2017\nAbigail F 10607 2017\nLiam M 18798 2017\nNoah M 18410 2017\nWilliam M 14967 2017\nJames M 14291 2017\nLogan M 14014 2017\nBenjamin M 13797 2017\nMason M 13549 2017\nElijah M 13344 2017\nOliver M 13193 2017\nJacob M 13178 2017\nEmma F 18688 2018\nOlivia F 17921 2018\nAva F 14924 2018\nIsabella F 14464 2018\nSophia F 13928 2018\nCharlotte F 12940 2018\nMia F 12642 2018\nAmelia F 12301 2018\nHarper F 10582 2018\nEvelyn F 10376 2018\nLiam M 19837 2018\nNoah M 18267 2018\nWilliam M 14516 2018\nJames M 13525 2018\nOliver M 13389 2018\nBenjamin M 13381 2018\nElijah M 12886 2018\nLucas M 12585 2018\nMason M 12435 2018\nLogan M 12352 2018\n"
     ]
    }
   ],
   "source": [
    "# !cat data/popular-names.txt | sed 'y/\\\\t/ /' | head -10\"\n",
    "\n",
    "with open('data/popular-names.txt') as f:\n",
    "    for l in f:\n",
    "        print(l.replace('\\t', ' '), end='')"
   ]
  },
  {
   "source": [
    "## 12."
   ],
   "cell_type": "markdown",
   "metadata": {}
  },
  {
   "cell_type": "code",
   "execution_count": 17,
   "metadata": {},
   "outputs": [],
   "source": [
    "# !cat data/popular-names.txt | cut -f 1 > out/col1.txt\n",
    "# !head -10 out/col1.txt\n",
    "# !cat data/popular-names.txt | cut -f 2 > out/col2.txt\n",
    "# !head -10 out/col2.txt\n",
    "\n",
    "with open('data/popular-names.txt') as f:\n",
    "    col1 = open('out/col1.txt', mode='w')\n",
    "    col2 = open('out/col2.txt', mode='w')\n",
    "    for l in f:\n",
    "        cols = l.split()\n",
    "        col1.write(cols[0] + '\\n')\n",
    "        col2.write(cols[1] + '\\n')\n",
    "    col1.close()\n",
    "    col2.close()"
   ]
  },
  {
   "source": [
    "## 13."
   ],
   "cell_type": "markdown",
   "metadata": {}
  },
  {
   "cell_type": "code",
   "execution_count": 21,
   "metadata": {},
   "outputs": [],
   "source": [
    "# !paste out/col1.txt out/col2.txt > out/merged.txt\n",
    "# !head -10 out/merged.txt\n",
    "\n",
    "col1 = open('out/col1.txt')\n",
    "col2 = open('out/col2.txt')\n",
    "merged = open('out/merged.txt', mode='w')\n",
    "\n",
    "for (l1, l2) in zip(col1, col2):\n",
    "    merged.write(l1.strip() + '\\t' + l2.strip() + '\\n')\n",
    "\n",
    "col1.close()\n",
    "col2.close()\n",
    "merged.close()"
   ]
  },
  {
   "source": [
    "## 14."
   ],
   "cell_type": "markdown",
   "metadata": {}
  },
  {
   "cell_type": "code",
   "execution_count": 32,
   "metadata": {},
   "outputs": [
    {
     "output_type": "stream",
     "name": "stdout",
     "text": [
      "Mary\tF\nAnna\tF\nEmma\tF\nElizabeth\tF\nMinnie\tF\nMargaret\tF\nIda\tF\nAlice\tF\nBertha\tF\nSarah\tF\n"
     ]
    }
   ],
   "source": [
    "# !read n; head -$n\n",
    "\n",
    "def head(text, n):\n",
    "    return '\\n'.join(text.strip().split('\\n')[:n])\n",
    "\n",
    "with open('out/merged.txt') as f:\n",
    "    print(head(f.read(), 10))"
   ]
  },
  {
   "source": [
    "## 15."
   ],
   "cell_type": "markdown",
   "metadata": {}
  },
  {
   "cell_type": "code",
   "execution_count": 33,
   "metadata": {},
   "outputs": [
    {
     "output_type": "stream",
     "name": "stdout",
     "text": [
      "Liam\tM\nNoah\tM\nWilliam\tM\nJames\tM\nOliver\tM\nBenjamin\tM\nElijah\tM\nLucas\tM\nMason\tM\nLogan\tM\n"
     ]
    }
   ],
   "source": [
    "# !read n; tail -$n\n",
    "\n",
    "def tail(text, n):\n",
    "    return '\\n'.join(text.strip().split('\\n')[-n:])\n",
    "\n",
    "with open('out/merged.txt') as f:\n",
    "    print(tail(f.read(), 10))"
   ]
  },
  {
   "source": [
    "## 16."
   ],
   "cell_type": "markdown",
   "metadata": {}
  },
  {
   "cell_type": "code",
   "execution_count": 44,
   "metadata": {
    "tags": []
   },
   "outputs": [],
   "source": [
    "# !read n; split -n l/$n -d out/merged.txt out/split- --additional-suffix=.txt\n",
    "\n",
    "def split(text, n):\n",
    "    lines = text.strip().split('\\n')\n",
    "    l = len(lines) // n\n",
    "    return ['\\n'.join(lines[i:(i + l)]) for i in range(0, len(lines), l)]\n",
    "\n",
    "with open('data/popular-names.txt') as f:\n",
    "    for i, text in enumerate(split(f.read(), 5)):\n",
    "        g = open(f'out/split-{i:02}.txt', mode='w')\n",
    "        g.write(text + '\\n')\n",
    "        g.close()"
   ]
  },
  {
   "source": [
    "## 17."
   ],
   "cell_type": "markdown",
   "metadata": {}
  },
  {
   "cell_type": "code",
   "execution_count": 56,
   "metadata": {},
   "outputs": [
    {
     "output_type": "stream",
     "name": "stdout",
     "text": [
      "Abigail\nAiden\nAlexander\nAlexis\nAlice\nAmanda\nAmelia\nAmy\nAndrew\nAngela\nAnna\nAnnie\nAnthony\nAshley\nAustin\nAva\nBarbara\nBenjamin\nBertha\nBessie\nBetty\nBrandon\nBrian\nBrittany\nCarol\nCarolyn\nCharles\nCharlotte\nChloe\nChristopher\nClara\nCrystal\nCynthia\nDaniel\nDavid\nDeborah\nDebra\nDonald\nDonna\nDoris\nDorothy\nEdward\nElijah\nElizabeth\nEmily\nEmma\nEthan\nEthel\nEvelyn\nFlorence\nFrances\nFrank\nGary\nGeorge\nHannah\nHarper\nHarry\nHeather\nHelen\nHenry\nIda\nIsabella\nJacob\nJames\nJason\nJayden\nJeffrey\nJennifer\nJessica\nJoan\nJohn\nJoseph\nJoshua\nJudith\nJulie\nJustin\nKaren\nKathleen\nKelly\nKimberly\nLarry\nLaura\nLauren\nLiam\nLillian\nLinda\nLisa\nLogan\nLori\nLucas\nMadison\nMargaret\nMarie\nMark\nMary\nMason\nMatthew\nMegan\nMelissa\nMia\nMichael\nMichelle\nMildred\nMinnie\nNancy\nNicholas\nNicole\nNoah\nOliver\nOlivia\nPamela\nPatricia\nRachel\nRebecca\nRichard\nRobert\nRonald\nRuth\nSamantha\nSandra\nSarah\nScott\nSharon\nShirley\nSophia\nStephanie\nSteven\nSusan\nTammy\nTaylor\nThomas\nTracy\nTyler\nVirginia\nWalter\nWilliam\n"
     ]
    }
   ],
   "source": [
    "# !cat data/popular-names.txt | cut -f 1 | sort | uniq\n",
    "\n",
    "with open('data/popular-names.txt') as f:\n",
    "    for c in sorted(set(l.split()[0] for l in f)):\n",
    "        print(c)"
   ]
  },
  {
   "source": [
    "## 18."
   ],
   "cell_type": "markdown",
   "metadata": {}
  },
  {
   "cell_type": "code",
   "execution_count": 72,
   "metadata": {
    "tags": [
     "outputPrepend"
    ]
   },
   "outputs": [
    {
     "output_type": "stream",
     "name": "stdout",
     "text": [
      "417\t2015\nThomas\tM\t17369\t1934\nNoah\tM\t17353\t2012\nLisa\tF\t17351\t1976\nMichael\tM\t17350\t2010\nEdward\tM\t17349\t1930\nEmma\tF\t17345\t2010\nWilliam\tM\t17343\t2011\nCarol\tF\t17336\t1937\nMargaret\tF\t17333\t1931\nOlivia\tF\t17322\t2011\nOlivia\tF\t17316\t2012\nVirginia\tF\t17314\t1920\nMildred\tF\t17300\t1919\nJayden\tM\t17288\t2009\nNicole\tF\t17276\t1978\nSamantha\tF\t17265\t2000\nStephanie\tF\t17263\t1973\nMildred\tF\t17258\t1918\nNoah\tM\t17247\t2009\nEdward\tM\t17226\t1929\nMason\tM\t17201\t2014\nStephanie\tF\t17183\t1993\nJoseph\tM\t17183\t1935\nJayden\tM\t17179\t2010\nAlexis\tF\t17170\t1997\nJoseph\tM\t17162\t1933\nJoseph\tM\t17101\t1934\nIsabella\tF\t17089\t2014\nOlivia\tF\t17081\t2008\nNancy\tF\t17069\t1937\nJoan\tF\t17069\t1936\nWilliam\tM\t17051\t2010\nAva\tF\t17039\t2008\nMadison\tF\t17032\t2008\nOlivia\tF\t17028\t2010\nSophia\tF\t17024\t2007\nFrank\tM\t17017\t1918\nHannah\tF\t17010\t1995\nEdward\tM\t17005\t1916\nJayden\tM\t16992\t2011\nStephanie\tF\t16983\t1974\nShirley\tF\t16953\t1941\nSophia\tF\t16944\t2009\nAva\tF\t16939\t2006\nCharles\tM\t16937\t1914\nTaylor\tF\t16905\t1999\nWilliam\tM\t16885\t2012\nStephanie\tF\t16885\t1972\nJacob\tM\t16883\t2014\nNoah\tM\t16862\t2011\nThomas\tM\t16846\t1931\nThomas\tM\t16834\t1932\nWilliam\tM\t16820\t2014\nLiam\tM\t16804\t2012\nMichael\tM\t16795\t2011\nElizabeth\tF\t16782\t1994\nAlexander\tM\t16756\t2010\nNancy\tF\t16756\t1936\nFrank\tM\t16708\t1921\nMary\tF\t16706\t1900\nMary\tF\t16697\t1971\nEthan\tM\t16684\t2011\nWilliam\tM\t16641\t2013\nMason\tM\t16627\t2015\nJudith\tF\t16626\t1939\nAlexis\tF\t16589\t1996\nOlivia\tF\t16582\t2007\nMegan\tF\t16580\t1994\nDorothy\tF\t16572\t1937\nDoris\tF\t16572\t1928\nMargaret\tF\t16549\t1932\nEmma\tF\t16540\t2002\nAshley\tF\t16527\t2001\nDoris\tF\t16510\t1927\nThomas\tM\t16500\t1933\nDoris\tF\t16496\t1929\nBrittany\tF\t16476\t1995\nPatricia\tF\t16468\t1931\nNoah\tM\t16451\t2010\nDonald\tM\t16435\t1923\nFrank\tM\t16430\t1920\nVirginia\tF\t16421\t1918\nMildred\tF\t16412\t1922\nAlexis\tF\t16402\t2001\nAva\tF\t16378\t2015\nHelen\tF\t16376\t1932\nRichard\tM\t16376\t1921\nMary\tF\t16370\t1906\nChristopher\tM\t16355\t2009\nAmanda\tF\t16351\t1995\nJessica\tF\t16348\t1999\nDorothy\tF\t16348\t1938\nHeather\tF\t16321\t1972\nAva\tF\t16302\t2016\nDoris\tF\t16298\t1926\nMildred\tF\t16257\t1917\nEthan\tM\t16241\t2013\nElizabeth\tF\t16185\t1995\nMichael\tM\t16169\t2012\nVirginia\tF\t16162\t1926\nSandra\tF\t16150\t1940\nOlivia\tF\t16148\t2003\nHelen\tF\t16133\t1912\nFrances\tF\t16131\t1918\nSophia\tF\t16128\t2016\nJayden\tM\t16127\t2012\nRachel\tF\t16117\t1996\nOlivia\tF\t16105\t2004\nSophia\tF\t16084\t2008\nDoris\tF\t16074\t1925\nMary\tF\t16067\t1905\nBarbara\tF\t16037\t1929\nRuth\tF\t16019\t1929\nFrank\tM\t16014\t1922\nElizabeth\tF\t15998\t1996\nFrances\tF\t15993\t1921\nMildred\tF\t15990\t1923\nAva\tF\t15958\t2017\nJacob\tM\t15949\t2015\nAbigail\tF\t15928\t2003\nElizabeth\tF\t15910\t1920\nWilliam\tM\t15909\t2015\nSarah\tF\t15899\t2001\nEdward\tM\t15889\t1915\nFrances\tF\t15883\t1920\nAva\tF\t15873\t2009\nSamantha\tF\t15864\t2001\nMildred\tF\t15853\t1924\nElizabeth\tF\t15853\t1918\nDaniel\tM\t15843\t2010\nRuth\tF\t15839\t1914\nElizabeth\tF\t15800\t1921\nDoris\tF\t15785\t1924\nStephanie\tF\t15774\t1975\nFrank\tM\t15769\t1917\nWilliam\tM\t15761\t2016\nNicole\tF\t15752\t1972\nPatricia\tF\t15751\t1930\nAbigail\tF\t15749\t2005\nVirginia\tF\t15725\t1927\nEthan\tM\t15724\t2014\nJessica\tF\t15709\t2000\nAlexander\tM\t15702\t2011\nFrank\tM\t15702\t1919\nAva\tF\t15696\t2014\nOlivia\tF\t15693\t2005\nRobert\tM\t15684\t1913\nAnna\tF\t15666\t1918\nAlexis\tF\t15636\t2002\nVirginia\tF\t15636\t1919\nMildred\tF\t15633\t1916\nAbigail\tF\t15628\t2006\nIsabella\tF\t15617\t2015\nHannah\tF\t15605\t2004\nAmanda\tF\t15590\t1976\nAiden\tM\t15538\t2010\nAva\tF\t15533\t2012\nAva\tF\t15503\t2011\nOlivia\tF\t15498\t2006\nMichael\tM\t15497\t2013\nAiden\tM\t15496\t2011\nAnthony\tM\t15493\t2010\nJoan\tF\t15479\t1930\nAbigail\tF\t15470\t2007\nDoris\tF\t15464\t1930\nElizabeth\tF\t15461\t1923\nMichael\tM\t15454\t2014\nAva\tF\t15433\t2010\nAbigail\tF\t15426\t2004\nElizabeth\tF\t15423\t1997\nAlexander\tM\t15414\t2014\nEmily\tF\t15352\t2009\nElizabeth\tF\t15345\t1999\nAshley\tF\t15344\t2002\nMargaret\tF\t15330\t1938\nJulie\tF\t15326\t1971\nJoan\tF\t15299\t1937\nAbigail\tF\t15298\t2002\nDaniel\tM\t15291\t2011\nFrank\tM\t15291\t1916\nElizabeth\tF\t15287\t1919\nMildred\tF\t15254\t1915\nAva\tF\t15252\t2013\nMason\tM\t15244\t2016\nElizabeth\tF\t15242\t1922\nMadison\tF\t15239\t2009\nMargaret\tF\t15239\t1933\nAlexander\tM\t15237\t2012\nAnna\tF\t15228\t1916\nMadison\tF\t15188\t1997\nElizabeth\tF\t15187\t1998\nIsabella\tF\t15186\t2005\nFrances\tF\t15183\t1924\nIsabella\tF\t15180\t2017\nDorothy\tF\t15171\t1939\nRebecca\tF\t15167\t1974\nAnna\tF\t15160\t1917\nMargaret\tF\t15144\t1934\nMargaret\tF\t15143\t1937\nElizabeth\tF\t15131\t1917\nAnna\tF\t15119\t1915\nFrances\tF\t15107\t1919\nElizabeth\tF\t15099\t2000\nAbigail\tF\t15082\t2008\nTaylor\tF\t15078\t2000\nEthan\tM\t15077\t2015\nFrances\tF\t15053\t1922\nIsabella\tF\t15017\t2004\nRichard\tM\t15010\t1920\nFrank\tM\t15006\t1915\nWilliam\tM\t14967\t2017\nMary\tF\t14961\t1904\nMargaret\tF\t14952\t1939\nRuth\tF\t14940\t1930\nElizabeth\tF\t14939\t1916\nAva\tF\t14924\t2018\nMia\tF\t14905\t2015\nAlexander\tM\t14905\t2013\nAiden\tM\t14903\t2012\nSophia\tF\t14883\t2017\nFrances\tF\t14879\t1923\nBarbara\tF\t14873\t1928\nRebecca\tF\t14870\t1973\nAlexis\tF\t14867\t2003\nJames\tM\t14862\t2016\nHannah\tF\t14845\t2005\nJames\tM\t14824\t2015\nAbigail\tF\t14807\t2001\nIsabella\tF\t14795\t2016\nElizabeth\tF\t14786\t2001\nJayden\tM\t14766\t2013\nSarah\tF\t14760\t2002\nMargaret\tF\t14725\t1935\nDorothy\tF\t14674\t1913\nSamantha\tF\t14666\t2002\nHelen\tF\t14643\t1933\nBenjamin\tM\t14641\t2016\nOlivia\tF\t14629\t2002\nMargaret\tF\t14594\t1936\nAnna\tF\t14581\t1920\nShirley\tF\t14579\t1929\nAlexander\tM\t14547\t2015\nHannah\tF\t14544\t2006\nNancy\tF\t14544\t1935\nCarol\tF\t14521\t1936\nWilliam\tM\t14516\t2018\nAshley\tF\t14514\t2003\nJacob\tM\t14510\t2016\nVirginia\tF\t14501\t1928\nAnna\tF\t14498\t1919\nMargaret\tF\t14486\t1913\nMary\tF\t14486\t1902\nShirley\tF\t14476\t1932\nJoseph\tM\t14471\t1913\nIsabella\tF\t14464\t2018\nMildred\tF\t14451\t1925\nMichael\tM\t14431\t2015\nJames\tM\t14431\t2014\nMia\tF\t14428\t2016\nMary\tF\t14406\t1898\nShirley\tF\t14405\t1931\nAbigail\tF\t14390\t2009\nAshley\tF\t14373\t2004\nFrances\tF\t14363\t1917\nShirley\tF\t14315\t1933\nJoan\tF\t14302\t1938\nDaniel\tM\t14298\t2013\nJames\tM\t14291\t2017\nNicole\tF\t14276\t1975\nMary\tF\t14275\t1903\nEmily\tF\t14274\t2010\nVirginia\tF\t14261\t1917\nEmily\tF\t14258\t2011\nAbigail\tF\t14247\t2010\nShirley\tF\t14212\t1928\nElizabeth\tF\t14103\t2003\nElizabeth\tF\t14103\t1915\nHelen\tF\t14100\t1934\nMichael\tM\t14088\t2016\nLogan\tM\t14014\t2017\nOlivia\tF\t13977\t2001\nDaniel\tM\t13937\t2014\nElizabeth\tF\t13935\t1925\nSophia\tF\t13928\t2018\nThomas\tM\t13910\t1918\nElijah\tM\t13902\t2016\nGeorge\tM\t13874\t1913\nSamantha\tF\t13867\t2003\nEthan\tM\t13819\t2016\nMary\tF\t13811\t1896\nBenjamin\tM\t13797\t2017\nSamantha\tF\t13783\t2004\nFrances\tF\t13746\t1916\nBenjamin\tM\t13700\t2015\nEmily\tF\t13649\t2012\nSamantha\tF\t13638\t2005\nDoris\tF\t13629\t1931\nPatricia\tF\t13625\t1929\nAva\tF\t13605\t2005\nElizabeth\tF\t13561\t2004\nMildred\tF\t13551\t1926\nMason\tM\t13549\t2017\nJames\tM\t13525\t2018\nNancy\tF\t13518\t1934\nMia\tF\t13512\t2014\nSophia\tF\t13501\t2006\nMia\tF\t13470\t2017\nJohn\tM\t13446\t1911\nMary\tF\t13446\t1895\nThomas\tM\t13434\t1919\nMary\tF\t13413\t1897\nOliver\tM\t13389\t2018\nBenjamin\tM\t13381\t2018\nFrances\tF\t13355\t1926\nElijah\tM\t13344\t2017\nShirley\tF\t13315\t1927\nHannah\tF\t13312\t2007\nAshley\tF\t13274\t2005\nAbigail\tF\t13248\t2011\nOliver\tM\t13193\t2017\nCharles\tM\t13190\t1913\nMadison\tF\t13183\t2010\nJacob\tM\t13178\t2017\nMary\tF\t13172\t1899\nMary\tF\t13172\t1892\nBarbara\tF\t13161\t1927\nMia\tF\t13152\t2013\nMary\tF\t13151\t1894\nMary\tF\t13136\t1901\nEmily\tF\t13126\t2013\nCharlotte\tF\t13090\t2016\nElizabeth\tF\t13056\t2007\nCharlotte\tF\t12940\t2018\nCharlotte\tF\t12937\t2017\nDoris\tF\t12909\t1932\nElijah\tM\t12886\t2018\nRobert\tM\t12836\t1912\nFrances\tF\t12787\t1915\nMary\tF\t12784\t1893\nHelen\tF\t12781\t1935\nAbigail\tF\t12700\t2012\nEmily\tF\t12647\t2014\nDorothy\tF\t12645\t1912\nMia\tF\t12642\t2018\nThomas\tM\t12611\t1917\nRuth\tF\t12609\t1913\nLucas\tM\t12585\t2018\nMargaret\tF\t12536\t1912\nVirginia\tF\t12487\t1916\nSamantha\tF\t12462\t2006\nMason\tM\t12435\t2018\nAbigail\tF\t12409\t2013\nAbigail\tF\t12401\t2015\nMadison\tF\t12389\t2011\nLogan\tM\t12352\t2018\nEdward\tM\t12318\t1914\nAmelia\tF\t12301\t2018\nAbigail\tF\t12085\t2014\nMary\tF\t12078\t1890\nJoseph\tM\t12062\t1912\nDoris\tF\t12024\t1933\nMia\tF\t12023\t2012\nElizabeth\tF\t12008\t2008\nFrank\tM\t12002\t1914\nThomas\tM\t11998\t1916\nChloe\tF\t11909\t2009\nAnna\tF\t11865\t1914\nAmelia\tF\t11833\t2017\nChloe\tF\t11824\t2008\nHelen\tF\t11801\t1911\nEmily\tF\t11786\t2015\nAbigail\tF\t11760\t2016\nChloe\tF\t11754\t2010\nMary\tF\t11754\t1888\nGeorge\tM\t11734\t1912\nMary\tF\t11703\t1891\nMildred\tF\t11650\t1914\nMary\tF\t11648\t1889\nEvelyn\tF\t11595\t1915\nMia\tF\t11530\t2011\nThomas\tM\t11490\t1915\nJohn\tM\t11450\t1910\nMia\tF\t11426\t2009\nCharlotte\tF\t11398\t2015\nMadison\tF\t11397\t2012\nElizabeth\tF\t11367\t1914\nRuth\tF\t11280\t1912\nCharles\tM\t11070\t1912\nChloe\tF\t10991\t2011\nEmily\tF\t10972\t2016\nHarper\tF\t10787\t2016\nEvelyn\tF\t10712\t2017\nMia\tF\t10639\t2010\nAbigail\tF\t10607\t2017\nMadison\tF\t10596\t2013\nWilliam\tM\t10593\t1911\nHarper\tF\t10582\t2018\nHelen\tF\t10479\t1910\nEvelyn\tF\t10376\t2018\nMadison\tF\t10320\t2014\nHarper\tF\t10295\t2015\nCharlotte\tF\t10115\t2014\nJames\tM\t9951\t1911\nMildred\tF\t9921\t1913\nMary\tF\t9889\t1886\nMary\tF\t9888\t1887\nJohn\tM\t9829\t1900\nElizabeth\tF\t9708\t2012\nAnna\tF\t9687\t1913\nFrances\tF\t9677\t1914\nJohn\tM\t9655\t1880\nJohn\tM\t9591\t1909\nJohn\tM\t9557\t1882\nWilliam\tM\t9532\t1880\nElizabeth\tF\t9505\t1913\nEdward\tM\t9474\t1913\nElizabeth\tF\t9454\t2013\nJohn\tM\t9388\t1884\nJohn\tM\t9342\t1908\nWilliam\tM\t9298\t1882\nMargaret\tF\t9279\t1911\nHelen\tF\t9250\t1909\nJohn\tM\t9247\t1888\nFrank\tM\t9237\t1913\nMary\tF\t9217\t1884\nJames\tM\t9195\t1910\nMary\tF\t9128\t1885\nJohn\tM\t9039\t1892\nJohn\tM\t9026\t1886\nJohn\tM\t8983\t1907\nWalter\tM\t8962\t1914\nWilliam\tM\t8897\t1884\nJohn\tM\t8894\t1883\nDorothy\tF\t8869\t1911\nWilliam\tM\t8844\t1910\nMarie\tF\t8829\t1914\nJohn\tM\t8769\t1881\nMildred\tF\t8764\t1912\nJohn\tM\t8756\t1885\nWilliam\tM\t8705\t1888\nAnna\tF\t8586\t1912\nWilliam\tM\t8579\t1900\nJohn\tM\t8548\t1889\nElizabeth\tF\t8528\t1912\nWilliam\tM\t8524\t1881\nJohn\tM\t8502\t1890\nHelen\tF\t8439\t1908\nWilliam\tM\t8387\t1883\nJohn\tM\t8320\t1895\nJohn\tM\t8265\t1906\nWilliam\tM\t8252\t1886\nJohn\tM\t8238\t1894\nMargaret\tF\t8226\t1910\nJohn\tM\t8159\t1898\nMary\tF\t8148\t1882\nJohn\tM\t8138\t1896\nJohn\tM\t8110\t1887\nJohn\tM\t8108\t1904\nJohn\tM\t8060\t1905\nJohn\tM\t8049\t1893\nWilliam\tM\t8044\t1885\nMary\tF\t8012\t1883\nRuth\tF\t8003\t1911\nEdward\tM\t7936\t1912\nWilliam\tM\t7914\t1909\nFrank\tM\t7912\t1912\nJohn\tM\t7907\t1902\nWilliam\tM\t7782\t1892\nWilliam\tM\t7772\t1889\nWilliam\tM\t7747\t1896\nFrances\tF\t7694\t1913\nJohn\tM\t7680\t1891\nJohn\tM\t7608\t1903\nJames\tM\t7594\t1909\nHelen\tF\t7579\t1907\nJohn\tM\t7550\t1897\nWilliam\tM\t7528\t1908\nWilliam\tM\t7494\t1890\nWilliam\tM\t7470\t1887\nWilliam\tM\t7400\t1898\nMargaret\tF\t7359\t1909\nMarie\tF\t7353\t1913\nDorothy\tF\t7318\t1910\nWilliam\tM\t7277\t1895\nWilliam\tM\t7274\t1894\nJames\tM\t7245\t1900\nWilliam\tM\t7223\t1893\nRuth\tF\t7212\t1910\nWilliam\tM\t7198\t1897\nHelen\tF\t7176\t1906\nThomas\tM\t7096\t1913\nMary\tF\t7065\t1880\nJames\tM\t7012\t1908\nJohn\tM\t6990\t1899\nMargaret\tF\t6976\t1908\nMary\tF\t6919\t1881\nWilliam\tM\t6904\t1907\nJohn\tM\t6900\t1901\nHelen\tF\t6811\t1905\nWilliam\tM\t6763\t1891\nAnna\tF\t6753\t1911\nMargaret\tF\t6713\t1907\nJames\tM\t6707\t1907\nFrances\tF\t6680\t1912\nMarie\tF\t6642\t1912\nWilliam\tM\t6616\t1902\nGeorge\tM\t6586\t1911\nWilliam\tM\t6566\t1906\nRobert\tM\t6526\t1911\nRuth\tF\t6509\t1909\nWilliam\tM\t6495\t1905\nJoseph\tM\t6488\t1911\nHelen\tF\t6488\t1904\nAnna\tF\t6436\t1910\nWilliam\tM\t6416\t1904\nHelen\tF\t6343\t1900\nWilliam\tM\t6311\t1903\nElizabeth\tF\t6298\t1911\nMildred\tF\t6271\t1911\nDorothy\tF\t6253\t1909\nRuth\tF\t6180\t1908\nHelen\tF\t6129\t1903\nAnna\tF\t6114\t1900\nMargaret\tF\t6096\t1906\nThomas\tM\t6087\t1912\nWilliam\tM\t6086\t1899\nJames\tM\t6042\t1905\nWilliam\tM\t5990\t1901\nHelen\tF\t5967\t1902\nAnna\tF\t5950\t1895\nJames\tM\t5927\t1880\nJames\tM\t5908\t1906\nJames\tM\t5892\t1882\nAnna\tF\t5860\t1908\nAnna\tF\t5860\t1896\nJames\tM\t5855\t1904\nAnna\tF\t5804\t1909\nElizabeth\tF\t5800\t1910\nAnna\tF\t5773\t1898\nCharles\tM\t5725\t1911\nDorothy\tF\t5703\t1908\nAnna\tF\t5695\t1893\nJames\tM\t5693\t1884\nMildred\tF\t5692\t1910\nMargaret\tF\t5690\t1905\nRobert\tM\t5609\t1910\nJames\tM\t5592\t1902\nAnna\tF\t5575\t1907\nRuth\tF\t5573\t1907\nAnna\tF\t5565\t1894\nJames\tM\t5562\t1888\nAnna\tF\t5542\t1892\nAnna\tF\t5502\t1906\nJames\tM\t5480\t1903\nGeorge\tM\t5441\t1910\nJames\tM\t5441\t1881\nAnna\tF\t5429\t1897\nAnna\tF\t5424\t1905\nGeorge\tM\t5403\t1900\nJames\tM\t5398\t1892\nJames\tM\t5355\t1886\nCharles\tM\t5348\t1880\nJames\tM\t5335\t1895\nAnna\tF\t5330\t1904\nJames\tM\t5321\t1898\nMargaret\tF\t5304\t1900\nMargaret\tF\t5302\t1904\nAnna\tF\t5288\t1902\nHelen\tF\t5247\t1901\nAnna\tF\t5233\t1890\nHelen\tF\t5230\t1898\nJoseph\tM\t5228\t1910\nJames\tM\t5223\t1883\nJames\tM\t5207\t1896\nGeorge\tM\t5193\t1882\nElizabeth\tF\t5176\t1909\nJames\tM\t5175\t1885\nRuth\tF\t5140\t1906\nGeorge\tM\t5126\t1880\nAnna\tF\t5115\t1899\nJames\tM\t5113\t1897\nJames\tM\t5110\t1894\nAnna\tF\t5099\t1891\nAnna\tF\t5098\t1903\nJames\tM\t5097\t1890\nCharles\tM\t5091\t1882\nRuth\tF\t5068\t1905\nAnna\tF\t5062\t1889\nMildred\tF\t5054\t1909\nHelen\tF\t5048\t1899\nMargaret\tF\t5046\t1903\nJames\tM\t5030\t1893\nJames\tM\t5020\t1889\nMarie\tF\t5017\t1911\nMargaret\tF\t5011\t1902\nAnna\tF\t4982\t1888\nFrances\tF\t4967\t1911\nDorothy\tF\t4967\t1907\nGeorge\tM\t4961\t1884\nAnna\tF\t4923\t1901\nGeorge\tM\t4912\t1888\nElizabeth\tF\t4904\t1908\nRuth\tF\t4900\t1904\nGeorge\tM\t4853\t1898\nCharles\tM\t4826\t1883\nCharles\tM\t4802\t1884\nMarie\tF\t4790\t1910\nCharles\tM\t4785\t1910\nJames\tM\t4768\t1887\nRuth\tF\t4765\t1900\nGeorge\tM\t4760\t1892\nGeorge\tM\t4736\t1883\nJames\tM\t4735\t1901\nMargaret\tF\t4696\t1898\nGeorge\tM\t4688\t1909\nGeorge\tM\t4674\t1885\nAlice\tF\t4671\t1910\nGeorge\tM\t4671\t1886\nGeorge\tM\t4664\t1881\nCharles\tM\t4636\t1881\nMildred\tF\t4624\t1908\nElizabeth\tF\t4624\t1907\nCharles\tM\t4599\t1885\nJames\tM\t4597\t1899\nCharles\tM\t4591\t1888\nGeorge\tM\t4584\t1908\nRobert\tM\t4563\t1909\nCharles\tM\t4533\t1886\nHelen\tF\t4519\t1897\nRuth\tF\t4518\t1903\nJames\tM\t4516\t1891\nGeorge\tM\t4458\t1890\nGeorge\tM\t4445\t1907\nGeorge\tM\t4430\t1889\nMargaret\tF\t4424\t1901\nHelen\tF\t4392\t1896\nRuth\tF\t4384\t1902\nGeorge\tM\t4365\t1894\nJoseph\tM\t4348\t1909\nDorothy\tF\t4326\t1906\nElizabeth\tF\t4321\t1906\nGeorge\tM\t4320\t1893\nCharles\tM\t4319\t1892\nFrank\tM\t4314\t1911\nMarie\tF\t4301\t1909\nGeorge\tM\t4289\t1895\nGeorge\tM\t4286\t1896\nGeorge\tM\t4284\t1887\nAnna\tF\t4283\t1886\nMildred\tF\t4277\t1907\nAlice\tF\t4270\t1908\nGeorge\tM\t4256\t1905\nMargaret\tF\t4249\t1899\nRuth\tF\t4249\t1898\nAnna\tF\t4227\t1887\nGeorge\tM\t4223\t1902\nRobert\tM\t4219\t1908\nGeorge\tM\t4219\t1904\nGeorge\tM\t4201\t1906\nCharles\tM\t4199\t1889\nAlice\tF\t4192\t1906\nAlice\tF\t4170\t1909\nEdward\tM\t4164\t1911\nJoseph\tM\t4162\t1908\nMargaret\tF\t4146\t1897\nElizabeth\tF\t4121\t1905\nAlice\tF\t4107\t1907\nCharles\tM\t4098\t1900\nElizabeth\tF\t4096\t1900\nGeorge\tM\t4078\t1897\nMarie\tF\t4076\t1908\nCharles\tM\t4061\t1890\nMargaret\tF\t4050\t1896\nCharles\tM\t4031\t1887\nCharles\tM\t4029\t1909\nHelen\tF\t4023\t1895\nRobert\tM\t4020\t1907\nGeorge\tM\t4018\t1899\nAnna\tF\t3994\t1885\nRuth\tF\t3974\t1901\nGeorge\tM\t3961\t1903\nDorothy\tF\t3937\t1905\nMargaret\tF\t3931\t1895\nGeorge\tM\t3931\t1891\nCharles\tM\t3929\t1908\nFlorence\tF\t3920\t1900\nRuth\tF\t3912\t1899\nRuth\tF\t3905\t1896\nEthel\tF\t3896\t1900\nCharles\tM\t3884\t1907\nMarie\tF\t3880\t1907\nRuth\tF\t3878\t1897\nMildred\tF\t3873\t1906\nAnna\tF\t3860\t1884\nMarie\tF\t3856\t1900\nJoseph\tM\t3844\t1907\nElizabeth\tF\t3833\t1904\nRobert\tM\t3821\t1900\nFlorence\tF\t3790\t1898\nCharles\tM\t3788\t1894\nFrank\tM\t3768\t1910\nMildred\tF\t3758\t1905\nElizabeth\tF\t3723\t1903\nCharles\tM\t3723\t1893\nJoseph\tM\t3714\t1900\nMargaret\tF\t3700\t1894\nElizabeth\tF\t3694\t1902\nFlorence\tF\t3691\t1906\nHelen\tF\t3676\t1894\nElizabeth\tF\t3659\t1898\nRuth\tF\t3658\t1893\nMarie\tF\t3643\t1905\nCharles\tM\t3640\t1891\nCharles\tM\t3639\t1896\nRobert\tM\t3635\t1906\nCharles\tM\t3633\t1895\nAlice\tF\t3610\t1905\nGeorge\tM\t3609\t1901\nCharles\tM\t3608\t1905\nCharles\tM\t3607\t1906\nElizabeth\tF\t3603\t1895\nMarie\tF\t3595\t1904\nFlorence\tF\t3572\t1904\nMargaret\tF\t3565\t1893\nCharles\tM\t3557\t1898\nRuth\tF\t3551\t1895\nEthel\tF\t3531\t1898\nJoseph\tM\t3527\t1906\nMildred\tF\t3525\t1904\nFlorence\tF\t3509\t1902\nEthel\tF\t3502\t1896\nDorothy\tF\t3477\t1904\nFrank\tM\t3477\t1900\nElizabeth\tF\t3471\t1896\nFlorence\tF\t3471\t1895\nMarie\tF\t3469\t1903\nFlorence\tF\t3468\t1903\nElizabeth\tF\t3461\t1892\nFrank\tM\t3459\t1888\nElizabeth\tF\t3442\t1897\nMarie\tF\t3435\t1898\nMargaret\tF\t3435\t1892\nElizabeth\tF\t3425\t1894\nMarie\tF\t3424\t1902\nRobert\tM\t3414\t1904\nLillian\tF\t3414\t1900\nRobert\tM\t3410\t1905\nEdward\tM\t3408\t1910\nCharles\tM\t3406\t1904\nEthel\tF\t3391\t1895\nRuth\tF\t3372\t1894\nFlorence\tF\t3369\t1897\nCharles\tM\t3361\t1902\nElizabeth\tF\t3360\t1893\nCharles\tM\t3341\t1897\nFlorence\tF\t3323\t1896\nFlorence\tF\t3314\t1899\nAnna\tF\t3306\t1883\nJoseph\tM\t3302\t1905\nEthel\tF\t3295\t1902\nThomas\tM\t3292\t1911\nJoseph\tM\t3291\t1904\nRuth\tF\t3290\t1892\nElizabeth\tF\t3287\t1899\nEthel\tF\t3287\t1894\nEthel\tF\t3257\t1903\nHelen\tF\t3249\t1893\nFrank\tM\t3244\t1909\nFrank\tM\t3242\t1880\nFlorence\tF\t3233\t1894\nFlorence\tF\t3231\t1893\nElizabeth\tF\t3224\t1888\nFrank\tM\t3218\t1884\nElizabeth\tF\t3216\t1901\nCharles\tM\t3213\t1903\nEthel\tF\t3182\t1897\nRobert\tM\t3180\t1902\nFrank\tM\t3176\t1882\nJoseph\tM\t3171\t1898\nMarie\tF\t3157\t1901\nMarie\tF\t3156\t1899\nFlorence\tF\t3154\t1892\nFrank\tM\t3150\t1892\nCharles\tM\t3147\t1899\nFrank\tM\t3146\t1908\nAnna\tF\t3143\t1882\nAlice\tF\t3135\t1902\nFlorence\tF\t3131\t1901\nEmma\tF\t3128\t1892\nFrank\tM\t3127\t1886\nJoseph\tM\t3121\t1903\nEthel\tF\t3119\t1893\nElizabeth\tF\t3112\t1890\nMargaret\tF\t3100\t1890\nJoseph\tM\t3098\t1902\nMildred\tF\t3088\t1903\nMarie\tF\t3087\t1896\nEmma\tF\t3087\t1888\nMarie\tF\t3078\t1897\nFrank\tM\t3078\t1890\nEthel\tF\t3067\t1901\nFrank\tM\t3067\t1885\nMargaret\tF\t3065\t1891\nJoseph\tM\t3064\t1892\nLillian\tF\t3061\t1898\nElizabeth\tF\t3059\t1891\nElizabeth\tF\t3058\t1889\nJoseph\tM\t3051\t1896\nCharles\tM\t3049\t1901\nRobert\tM\t3044\t1903\nEthel\tF\t3035\t1892\nFrank\tM\t3012\t1895\nMarie\tF\t3011\t1895\nEthel\tF\t2999\t1899\nJoseph\tM\t2997\t1893\nJoseph\tM\t2993\t1888\nJoseph\tM\t2992\t1895\nFrank\tM\t2986\t1883\nEmma\tF\t2980\t1890\nJoseph\tM\t2977\t1894\nFrank\tM\t2975\t1889\nEmma\tF\t2968\t1893\nEmma\tF\t2952\t1895\nFrank\tM\t2943\t1907\nEmma\tF\t2937\t1894\nHelen\tF\t2936\t1892\nEdward\tM\t2935\t1909\nRobert\tM\t2932\t1898\nFrank\tM\t2925\t1898\nFrank\tM\t2917\t1893\nMargaret\tF\t2917\t1889\nMargaret\tF\t2904\t1888\nHenry\tM\t2899\t1910\nEmma\tF\t2884\t1891\nEmma\tF\t2884\t1889\nFrank\tM\t2883\t1887\nEmma\tF\t2872\t1896\nFrank\tM\t2863\t1894\nFrank\tM\t2845\t1896\nFrank\tM\t2837\t1905\nFrank\tM\t2834\t1881\nJoseph\tM\t2827\t1897\nRobert\tM\t2814\t1888\nFrank\tM\t2799\t1904\nFrank\tM\t2798\t1906\nJoseph\tM\t2766\t1901\nEmma\tF\t2764\t1886\nHarry\tM\t2759\t1888\nFrank\tM\t2756\t1902\nFlorence\tF\t2744\t1890\nJoseph\tM\t2729\t1889\nEmma\tF\t2728\t1885\nFrank\tM\t2726\t1897\nEdward\tM\t2720\t1900\nRobert\tM\t2719\t1896\nEthel\tF\t2718\t1890\nFlorence\tF\t2715\t1891\nRobert\tM\t2710\t1892\nEdward\tM\t2707\t1908\nJoseph\tM\t2707\t1884\nLillian\tF\t2703\t1899\nRobert\tM\t2701\t1897\nEmma\tF\t2698\t1897\nAnna\tF\t2698\t1881\nEthel\tF\t2689\t1891\nLillian\tF\t2681\t1901\nElizabeth\tF\t2681\t1887\nElizabeth\tF\t2680\t1886\nJoseph\tM\t2679\t1899\nJoseph\tM\t2670\t1890\nJoseph\tM\t2670\t1882\nClara\tF\t2661\t1892\nMinnie\tF\t2654\t1888\nFrank\tM\t2652\t1891\nMinnie\tF\t2650\t1890\nMarie\tF\t2649\t1894\nEmma\tF\t2647\t1887\nFrank\tM\t2644\t1903\nRobert\tM\t2635\t1895\nJoseph\tM\t2632\t1880\nMinnie\tF\t2624\t1889\nBertha\tF\t2623\t1893\nThomas\tM\t2610\t1882\nRobert\tM\t2609\t1899\nHenry\tM\t2606\t1900\nAnna\tF\t2604\t1880\nHenry\tM\t2596\t1888\nJoseph\tM\t2594\t1886\nEmma\tF\t2587\t1884\nElizabeth\tF\t2582\t1885\nHenry\tM\t2579\t1882\nEdward\tM\t2576\t1907\nJoseph\tM\t2572\t1891\nThomas\tM\t2572\t1884\nRobert\tM\t2563\t1893\nHarry\tM\t2559\t1889\nFrank\tM\t2550\t1899\nElizabeth\tF\t2549\t1884\nRobert\tM\t2543\t1901\nRobert\tM\t2541\t1890\nJoseph\tM\t2540\t1885\nThomas\tM\t2534\t1880\nJoseph\tM\t2515\t1883\nRobert\tM\t2513\t1889\nRobert\tM\t2500\t1882\nRobert\tM\t2497\t1894\nClara\tF\t2496\t1890\nHenry\tM\t2474\t1884\nThomas\tM\t2468\t1909\nRobert\tM\t2468\t1884\nFlorence\tF\t2465\t1889\nEthel\tF\t2463\t1889\nHarry\tM\t2460\t1892\nJoseph\tM\t2456\t1887\nJoseph\tM\t2456\t1881\nHenry\tM\t2452\t1892\nBertha\tF\t2450\t1888\nFlorence\tF\t2444\t1888\nHenry\tM\t2444\t1880\nRobert\tM\t2443\t1886\nMinnie\tF\t2428\t1891\nMargaret\tF\t2419\t1887\nHelen\tF\t2417\t1891\nRobert\tM\t2415\t1880\nHenry\tM\t2406\t1885\nHenry\tM\t2404\t1886\nFrank\tM\t2402\t1901\nEdward\tM\t2398\t1906\nBertha\tF\t2388\t1890\nHenry\tM\t2383\t1883\nEthel\tF\t2374\t1888\nBertha\tF\t2372\t1891\nMinnie\tF\t2372\t1886\nEmma\tF\t2367\t1883\nEdward\tM\t2366\t1905\nHenry\tM\t2349\t1890\nHarry\tM\t2345\t1890\nBessie\tF\t2343\t1889\nHenry\tM\t2339\t1881\nEdward\tM\t2337\t1898\nThomas\tM\t2337\t1886\nEdward\tM\t2334\t1904\nRobert\tM\t2334\t1883\nRobert\tM\t2322\t1885\nClara\tF\t2319\t1889\nThomas\tM\t2316\t1883\nEdward\tM\t2309\t1893\nEmma\tF\t2303\t1882\nThomas\tM\t2301\t1908\nEdward\tM\t2299\t1889\nEdward\tM\t2296\t1896\nEdward\tM\t2294\t1902\nThomas\tM\t2282\t1881\nHenry\tM\t2278\t1894\nBessie\tF\t2278\t1888\nMargaret\tF\t2275\t1886\nEdward\tM\t2268\t1903\nThomas\tM\t2266\t1885\nElizabeth\tF\t2255\t1883\nHarry\tM\t2245\t1893\nMinnie\tF\t2243\t1884\nRobert\tM\t2240\t1891\nHenry\tM\t2228\t1887\nHenry\tM\t2221\t1895\nMinnie\tF\t2215\t1887\nMargaret\tF\t2204\t1885\nHenry\tM\t2203\t1907\nEdward\tM\t2203\t1895\nHarry\tM\t2189\t1894\nElizabeth\tF\t2186\t1882\nHenry\tM\t2183\t1896\nMinnie\tF\t2178\t1885\nEdward\tM\t2177\t1881\nThomas\tM\t2176\t1906\nThomas\tM\t2161\t1898\nHenry\tM\t2154\t1902\nThomas\tM\t2151\t1887\nMargaret\tF\t2142\t1884\nThomas\tM\t2135\t1905\nHarry\tM\t2132\t1891\nEdward\tM\t2125\t1887\nEdward\tM\t2121\t1897\nHenry\tM\t2086\t1904\nHenry\tM\t2049\t1891\nIda\tF\t2049\t1886\nBertha\tF\t2037\t1887\nMinnie\tF\t2035\t1883\nEmma\tF\t2034\t1881\nMinnie\tF\t2004\t1882\nEmma\tF\t2003\t1880\nBertha\tF\t2001\t1886\nHenry\tM\t1994\t1897\nClara\tF\t1984\t1887\nFlorence\tF\t1964\t1887\nThomas\tM\t1962\t1903\nElizabeth\tF\t1939\t1880\nIda\tF\t1929\t1887\nEdward\tM\t1917\t1901\nClara\tF\t1916\t1886\nClara\tF\t1910\t1885\nEdward\tM\t1901\t1899\nIda\tF\t1882\t1884\nMargaret\tF\t1881\t1883\nHenry\tM\t1870\t1901\nFlorence\tF\t1860\t1886\nBertha\tF\t1860\t1885\nIda\tF\t1854\t1885\nClara\tF\t1852\t1884\nElizabeth\tF\t1852\t1881\nHenry\tM\t1831\t1899\nMargaret\tF\t1821\t1882\nBertha\tF\t1789\t1884\nMinnie\tF\t1746\t1880\nAnnie\tF\t1739\t1884\nAnnie\tF\t1703\t1885\nBertha\tF\t1681\t1883\nIda\tF\t1673\t1882\nMargaret\tF\t1658\t1881\nMinnie\tF\t1653\t1881\nIda\tF\t1634\t1883\nAnnie\tF\t1589\t1883\nMargaret\tF\t1578\t1880\nClara\tF\t1548\t1883\nAlice\tF\t1542\t1882\nBertha\tF\t1508\t1882\nAnnie\tF\t1492\t1882\nIda\tF\t1472\t1880\nIda\tF\t1439\t1881\nAlice\tF\t1414\t1880\nAnnie\tF\t1326\t1881\nBertha\tF\t1324\t1881\nBertha\tF\t1320\t1880\nAlice\tF\t1308\t1881\nSarah\tF\t1288\t1880\n"
     ]
    }
   ],
   "source": [
    "# !cat data/popular-names.txt | sort -rnk3\n",
    "\n",
    "with open('data/popular-names.txt') as f:\n",
    "    for l in reversed(sorted(f, key=lambda l: int(l.split()[2]))):\n",
    "        print(l, end='')"
   ]
  },
  {
   "source": [
    "## 19."
   ],
   "cell_type": "markdown",
   "metadata": {}
  },
  {
   "cell_type": "code",
   "execution_count": 85,
   "metadata": {},
   "outputs": [
    {
     "output_type": "stream",
     "name": "stdout",
     "text": [
      "118 James\n111 William\n108 Robert\n108 John\n92 Mary\n75 Charles\n74 Michael\n73 Elizabeth\n70 Joseph\n60 Margaret\n58 Thomas\n58 George\n57 David\n51 Richard\n45 Helen\n43 Christopher\n43 Frank\n41 Anna\n40 Edward\n39 Ruth\n38 Patricia\n37 Matthew\n36 Dorothy\n35 Emma\n32 Barbara\n31 Joshua\n31 Daniel\n26 Emily\n26 Jennifer\n26 Linda\n26 Sarah\n25 Jacob\n25 Jessica\n24 Susan\n24 Betty\n24 Mildred\n23 Ashley\n23 Henry\n22 Nancy\n21 Andrew\n20 Amanda\n20 Donald\n20 Marie\n20 Florence\n19 Samantha\n18 Olivia\n18 Madison\n18 Melissa\n18 Lisa\n18 Karen\n17 Abigail\n17 Stephanie\n16 Mark\n16 Sandra\n16 Ethel\n15 Isabella\n15 Ethan\n15 Heather\n15 Michelle\n15 Angela\n15 Carol\n15 Frances\n14 Ava\n14 Amy\n14 Kimberly\n14 Shirley\n13 Sophia\n13 Hannah\n13 Nicole\n13 Jason\n13 Brian\n13 Deborah\n13 Virginia\n12 Donna\n12 Bertha\n12 Minnie\n11 Cynthia\n10 Noah\n10 Mia\n10 Nicholas\n10 Brittany\n10 Ronald\n10 Doris\n10 Alice\n9 Tyler\n9 Debra\n9 Joan\n8 Mason\n8 Alexander\n8 Alexis\n8 Taylor\n8 Judith\n8 Clara\n8 Ida\n7 Liam\n7 Brandon\n7 Tammy\n7 Steven\n7 Sharon\n7 Harry\n6 Anthony\n5 Charlotte\n5 Jayden\n5 Jeffrey\n5 Gary\n5 Annie\n4 Benjamin\n4 Chloe\n4 Austin\n4 Justin\n4 Kathleen\n4 Lillian\n3 Elijah\n3 Harper\n3 Aiden\n3 Megan\n3 Evelyn\n2 Oliver\n2 Logan\n2 Amelia\n2 Lauren\n2 Rebecca\n2 Larry\n2 Bessie\n1 Lucas\n1 Rachel\n1 Crystal\n1 Kelly\n1 Scott\n1 Julie\n1 Tracy\n1 Laura\n1 Lori\n1 Pamela\n1 Carolyn\n1 Walter\n"
     ]
    }
   ],
   "source": [
    "# !cat data/popular-names.txt | cut -f 1 | sort | uniq -c | sort -rnk1\n",
    "\n",
    "with open('data/popular-names.txt') as f:\n",
    "    tally = dict()\n",
    "    for l in f:\n",
    "        name = l.split()[0]\n",
    "        tally[name] = tally.get(name, 0) + 1\n",
    "    for name, count in reversed(sorted(tally.items(), key=lambda c: c[1])):\n",
    "        print(count, name)"
   ]
  }
 ]
}