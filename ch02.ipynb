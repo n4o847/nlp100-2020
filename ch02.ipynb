{
 "metadata": {
  "language_info": {
   "codemirror_mode": {
    "name": "ipython",
    "version": 3
   },
   "file_extension": ".py",
   "mimetype": "text/x-python",
   "name": "python",
   "nbconvert_exporter": "python",
   "pygments_lexer": "ipython3",
   "version": "3.8.5-final"
  },
  "orig_nbformat": 2,
  "kernelspec": {
   "name": "Python 3.8.5 64-bit",
   "display_name": "Python 3.8.5 64-bit",
   "metadata": {
    "interpreter": {
     "hash": "31f2aee4e71d21fbe5cf8b01ff0e069b9275f58929596ceb00d14d90e3e16cd6"
    }
   }
  }
 },
 "nbformat": 4,
 "nbformat_minor": 2,
 "cells": [
  {
   "source": [
    "第2章\n",
    "\n",
    "## 10."
   ],
   "cell_type": "markdown",
   "metadata": {}
  },
  {
   "cell_type": "code",
   "execution_count": 2,
   "metadata": {},
   "outputs": [
    {
     "output_type": "stream",
     "name": "stdout",
     "text": [
      " 2780 11120 55026 data/popular-names.txt\n"
     ]
    }
   ],
   "source": [
    "!wc data/popular-names.txt"
   ]
  },
  {
   "source": [
    "## 11."
   ],
   "cell_type": "markdown",
   "metadata": {}
  },
  {
   "cell_type": "code",
   "execution_count": 10,
   "metadata": {
    "tags": []
   },
   "outputs": [
    {
     "output_type": "stream",
     "name": "stdout",
     "text": [
      "Mary F 7065 1880\nAnna F 2604 1880\nEmma F 2003 1880\nElizabeth F 1939 1880\nMinnie F 1746 1880\nMargaret F 1578 1880\nIda F 1472 1880\nAlice F 1414 1880\nBertha F 1320 1880\nSarah F 1288 1880\nsed: couldn't write 17 items to stdout: Broken pipe\n"
     ]
    }
   ],
   "source": [
    "!cat data/popular-names.txt | sed 'y/\\t/ /' | head -10"
   ]
  },
  {
   "source": [
    "## 12."
   ],
   "cell_type": "markdown",
   "metadata": {}
  },
  {
   "cell_type": "code",
   "execution_count": 21,
   "metadata": {},
   "outputs": [
    {
     "output_type": "stream",
     "name": "stdout",
     "text": [
      "Mary\n",
      "Anna\n",
      "Emma\n",
      "Elizabeth\n",
      "Minnie\n",
      "Margaret\n",
      "Ida\n",
      "Alice\n",
      "Bertha\n",
      "Sarah\n",
      "F\n",
      "F\n",
      "F\n",
      "F\n",
      "F\n",
      "F\n",
      "F\n",
      "F\n",
      "F\n",
      "F\n"
     ]
    }
   ],
   "source": [
    "!cat data/popular-names.txt | cut -f 1 > out/col1.txt\n",
    "!head -10 out/col1.txt\n",
    "!cat data/popular-names.txt | cut -f 2 > out/col2.txt\n",
    "!head -10 out/col2.txt"
   ]
  },
  {
   "source": [
    "## 13."
   ],
   "cell_type": "markdown",
   "metadata": {}
  }
 ]
}